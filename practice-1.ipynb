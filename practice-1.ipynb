{
 "cells": [
  {
   "cell_type": "code",
   "execution_count": 3,
   "id": "985782ee",
   "metadata": {},
   "outputs": [],
   "source": [
    "import pandas as pd\n",
    "import numpy as np"
   ]
  },
  {
   "cell_type": "markdown",
   "id": "4e4017dd",
   "metadata": {},
   "source": [
    "# HOW TO CREATE A SERIES"
   ]
  },
  {
   "cell_type": "code",
   "execution_count": null,
   "id": "9024067a",
   "metadata": {},
   "outputs": [],
   "source": [
    "data = pd.Series(['kal', 20], index=['name', 'age'])\n",
    "data"
   ]
  },
  {
   "cell_type": "markdown",
   "id": "9c02bcba",
   "metadata": {},
   "source": [
    "# HOW TO CREATE A DATAFRAME"
   ]
  },
  {
   "cell_type": "code",
   "execution_count": 4,
   "id": "71c193ce",
   "metadata": {},
   "outputs": [
    {
     "name": "stdout",
     "output_type": "stream",
     "text": [
      "    name  age  gender   status\n",
      "0    kal   20  female  married\n",
      "1   liam   13    male         \n",
      "2  jorel   24    male   single\n",
      "3   mama   47  female  married\n",
      "4   dada   51    male  married\n"
     ]
    }
   ],
   "source": [
    "df = pd.DataFrame({\n",
    "    'name': ['kal', 'liam', 'jorel', 'mama', 'dada'],\n",
    "    'age': [20, 13, 24, 47, 51],\n",
    "    'gender': ['female', 'male', 'male', 'female', 'male'],\n",
    "    'status': ['married', '', 'single', 'married', 'married']\n",
    "})\n",
    "print(df)"
   ]
  },
  {
   "cell_type": "markdown",
   "id": "3e0c88d0",
   "metadata": {},
   "source": [
    "# WHAT IS A DATASET?\n",
    "## - it is a structured collection of data"
   ]
  },
  {
   "cell_type": "markdown",
   "id": "b79ea279",
   "metadata": {},
   "source": [
    "# HOW TO DROP A COLUMN"
   ]
  },
  {
   "cell_type": "code",
   "execution_count": 5,
   "id": "be70b40f",
   "metadata": {},
   "outputs": [],
   "source": [
    "df.drop(columns=['status'], inplace=True)"
   ]
  },
  {
   "cell_type": "code",
   "execution_count": 6,
   "id": "43d46645",
   "metadata": {},
   "outputs": [
    {
     "data": {
      "application/vnd.microsoft.datawrangler.viewer.v0+json": {
       "columns": [
        {
         "name": "index",
         "rawType": "int64",
         "type": "integer"
        },
        {
         "name": "name",
         "rawType": "object",
         "type": "string"
        },
        {
         "name": "age",
         "rawType": "int64",
         "type": "integer"
        },
        {
         "name": "gender",
         "rawType": "object",
         "type": "string"
        }
       ],
       "ref": "dfa42abb-8fed-4ecf-b960-3160c554cec3",
       "rows": [
        [
         "0",
         "kal",
         "20",
         "female"
        ],
        [
         "1",
         "liam",
         "13",
         "male"
        ],
        [
         "2",
         "jorel",
         "24",
         "male"
        ],
        [
         "3",
         "mama",
         "47",
         "female"
        ],
        [
         "4",
         "dada",
         "51",
         "male"
        ]
       ],
       "shape": {
        "columns": 3,
        "rows": 5
       }
      },
      "text/html": [
       "<div>\n",
       "<style scoped>\n",
       "    .dataframe tbody tr th:only-of-type {\n",
       "        vertical-align: middle;\n",
       "    }\n",
       "\n",
       "    .dataframe tbody tr th {\n",
       "        vertical-align: top;\n",
       "    }\n",
       "\n",
       "    .dataframe thead th {\n",
       "        text-align: right;\n",
       "    }\n",
       "</style>\n",
       "<table border=\"1\" class=\"dataframe\">\n",
       "  <thead>\n",
       "    <tr style=\"text-align: right;\">\n",
       "      <th></th>\n",
       "      <th>name</th>\n",
       "      <th>age</th>\n",
       "      <th>gender</th>\n",
       "    </tr>\n",
       "  </thead>\n",
       "  <tbody>\n",
       "    <tr>\n",
       "      <th>0</th>\n",
       "      <td>kal</td>\n",
       "      <td>20</td>\n",
       "      <td>female</td>\n",
       "    </tr>\n",
       "    <tr>\n",
       "      <th>1</th>\n",
       "      <td>liam</td>\n",
       "      <td>13</td>\n",
       "      <td>male</td>\n",
       "    </tr>\n",
       "    <tr>\n",
       "      <th>2</th>\n",
       "      <td>jorel</td>\n",
       "      <td>24</td>\n",
       "      <td>male</td>\n",
       "    </tr>\n",
       "    <tr>\n",
       "      <th>3</th>\n",
       "      <td>mama</td>\n",
       "      <td>47</td>\n",
       "      <td>female</td>\n",
       "    </tr>\n",
       "    <tr>\n",
       "      <th>4</th>\n",
       "      <td>dada</td>\n",
       "      <td>51</td>\n",
       "      <td>male</td>\n",
       "    </tr>\n",
       "  </tbody>\n",
       "</table>\n",
       "</div>"
      ],
      "text/plain": [
       "    name  age  gender\n",
       "0    kal   20  female\n",
       "1   liam   13    male\n",
       "2  jorel   24    male\n",
       "3   mama   47  female\n",
       "4   dada   51    male"
      ]
     },
     "execution_count": 6,
     "metadata": {},
     "output_type": "execute_result"
    }
   ],
   "source": [
    "df"
   ]
  },
  {
   "cell_type": "markdown",
   "id": "036b4cd1",
   "metadata": {},
   "source": [
    "# HOW TO COUNT UNIQUE VALUES IN SPECIFIC COLUMN e. 'gender'"
   ]
  },
  {
   "cell_type": "code",
   "execution_count": 7,
   "id": "abb1ec43",
   "metadata": {},
   "outputs": [
    {
     "data": {
      "application/vnd.microsoft.datawrangler.viewer.v0+json": {
       "columns": [
        {
         "name": "gender",
         "rawType": "object",
         "type": "string"
        },
        {
         "name": "count",
         "rawType": "int64",
         "type": "integer"
        }
       ],
       "ref": "e25ddb56-a1a7-4251-b5fe-8baa77965d5a",
       "rows": [
        [
         "male",
         "3"
        ],
        [
         "female",
         "2"
        ]
       ],
       "shape": {
        "columns": 1,
        "rows": 2
       }
      },
      "text/plain": [
       "gender\n",
       "male      3\n",
       "female    2\n",
       "Name: count, dtype: int64"
      ]
     },
     "execution_count": 7,
     "metadata": {},
     "output_type": "execute_result"
    }
   ],
   "source": [
    "df['gender'].value_counts()"
   ]
  },
  {
   "cell_type": "markdown",
   "id": "d353c257",
   "metadata": {},
   "source": [
    "# CONDITION TO ONLY PRINT PEOPLE WITH AGE 40 AND ABOVE"
   ]
  },
  {
   "cell_type": "code",
   "execution_count": 8,
   "id": "f01d2fc2",
   "metadata": {},
   "outputs": [
    {
     "data": {
      "application/vnd.microsoft.datawrangler.viewer.v0+json": {
       "columns": [
        {
         "name": "index",
         "rawType": "int64",
         "type": "integer"
        },
        {
         "name": "name",
         "rawType": "object",
         "type": "string"
        },
        {
         "name": "age",
         "rawType": "int64",
         "type": "integer"
        },
        {
         "name": "gender",
         "rawType": "object",
         "type": "string"
        }
       ],
       "ref": "f1e7b276-b593-4162-a910-413a4b418f53",
       "rows": [
        [
         "3",
         "mama",
         "47",
         "female"
        ],
        [
         "4",
         "dada",
         "51",
         "male"
        ]
       ],
       "shape": {
        "columns": 3,
        "rows": 2
       }
      },
      "text/html": [
       "<div>\n",
       "<style scoped>\n",
       "    .dataframe tbody tr th:only-of-type {\n",
       "        vertical-align: middle;\n",
       "    }\n",
       "\n",
       "    .dataframe tbody tr th {\n",
       "        vertical-align: top;\n",
       "    }\n",
       "\n",
       "    .dataframe thead th {\n",
       "        text-align: right;\n",
       "    }\n",
       "</style>\n",
       "<table border=\"1\" class=\"dataframe\">\n",
       "  <thead>\n",
       "    <tr style=\"text-align: right;\">\n",
       "      <th></th>\n",
       "      <th>name</th>\n",
       "      <th>age</th>\n",
       "      <th>gender</th>\n",
       "    </tr>\n",
       "  </thead>\n",
       "  <tbody>\n",
       "    <tr>\n",
       "      <th>3</th>\n",
       "      <td>mama</td>\n",
       "      <td>47</td>\n",
       "      <td>female</td>\n",
       "    </tr>\n",
       "    <tr>\n",
       "      <th>4</th>\n",
       "      <td>dada</td>\n",
       "      <td>51</td>\n",
       "      <td>male</td>\n",
       "    </tr>\n",
       "  </tbody>\n",
       "</table>\n",
       "</div>"
      ],
      "text/plain": [
       "   name  age  gender\n",
       "3  mama   47  female\n",
       "4  dada   51    male"
      ]
     },
     "execution_count": 8,
     "metadata": {},
     "output_type": "execute_result"
    }
   ],
   "source": [
    "df[df['age'] > 40]"
   ]
  },
  {
   "cell_type": "markdown",
   "id": "87fdabde",
   "metadata": {},
   "source": [
    "# CONDITION TO ONLY PRINT FEMALES"
   ]
  },
  {
   "cell_type": "code",
   "execution_count": 10,
   "id": "618bde73",
   "metadata": {},
   "outputs": [
    {
     "data": {
      "application/vnd.microsoft.datawrangler.viewer.v0+json": {
       "columns": [
        {
         "name": "index",
         "rawType": "int64",
         "type": "integer"
        },
        {
         "name": "name",
         "rawType": "object",
         "type": "string"
        },
        {
         "name": "age",
         "rawType": "int64",
         "type": "integer"
        },
        {
         "name": "gender",
         "rawType": "object",
         "type": "string"
        }
       ],
       "ref": "8129354f-9793-43c9-b180-0631e6245d78",
       "rows": [
        [
         "0",
         "kal",
         "20",
         "female"
        ],
        [
         "3",
         "mama",
         "47",
         "female"
        ]
       ],
       "shape": {
        "columns": 3,
        "rows": 2
       }
      },
      "text/html": [
       "<div>\n",
       "<style scoped>\n",
       "    .dataframe tbody tr th:only-of-type {\n",
       "        vertical-align: middle;\n",
       "    }\n",
       "\n",
       "    .dataframe tbody tr th {\n",
       "        vertical-align: top;\n",
       "    }\n",
       "\n",
       "    .dataframe thead th {\n",
       "        text-align: right;\n",
       "    }\n",
       "</style>\n",
       "<table border=\"1\" class=\"dataframe\">\n",
       "  <thead>\n",
       "    <tr style=\"text-align: right;\">\n",
       "      <th></th>\n",
       "      <th>name</th>\n",
       "      <th>age</th>\n",
       "      <th>gender</th>\n",
       "    </tr>\n",
       "  </thead>\n",
       "  <tbody>\n",
       "    <tr>\n",
       "      <th>0</th>\n",
       "      <td>kal</td>\n",
       "      <td>20</td>\n",
       "      <td>female</td>\n",
       "    </tr>\n",
       "    <tr>\n",
       "      <th>3</th>\n",
       "      <td>mama</td>\n",
       "      <td>47</td>\n",
       "      <td>female</td>\n",
       "    </tr>\n",
       "  </tbody>\n",
       "</table>\n",
       "</div>"
      ],
      "text/plain": [
       "   name  age  gender\n",
       "0   kal   20  female\n",
       "3  mama   47  female"
      ]
     },
     "execution_count": 10,
     "metadata": {},
     "output_type": "execute_result"
    }
   ],
   "source": [
    "df[df['gender'] == 'female']"
   ]
  },
  {
   "cell_type": "markdown",
   "id": "e6a4fa42",
   "metadata": {},
   "source": [
    "# HOW TO CREATE A COLUMN WITH NAN VALUES"
   ]
  },
  {
   "cell_type": "code",
   "execution_count": 12,
   "id": "390e2b58",
   "metadata": {},
   "outputs": [],
   "source": [
    "df['status'] = np.nan"
   ]
  },
  {
   "cell_type": "code",
   "execution_count": 13,
   "id": "427ba425",
   "metadata": {},
   "outputs": [
    {
     "data": {
      "application/vnd.microsoft.datawrangler.viewer.v0+json": {
       "columns": [
        {
         "name": "index",
         "rawType": "int64",
         "type": "integer"
        },
        {
         "name": "name",
         "rawType": "object",
         "type": "string"
        },
        {
         "name": "age",
         "rawType": "int64",
         "type": "integer"
        },
        {
         "name": "gender",
         "rawType": "object",
         "type": "string"
        },
        {
         "name": "status",
         "rawType": "float64",
         "type": "float"
        }
       ],
       "ref": "d4359d3a-6caf-4224-8316-842b01095186",
       "rows": [
        [
         "0",
         "kal",
         "20",
         "female",
         null
        ],
        [
         "1",
         "liam",
         "13",
         "male",
         null
        ],
        [
         "2",
         "jorel",
         "24",
         "male",
         null
        ],
        [
         "3",
         "mama",
         "47",
         "female",
         null
        ],
        [
         "4",
         "dada",
         "51",
         "male",
         null
        ]
       ],
       "shape": {
        "columns": 4,
        "rows": 5
       }
      },
      "text/html": [
       "<div>\n",
       "<style scoped>\n",
       "    .dataframe tbody tr th:only-of-type {\n",
       "        vertical-align: middle;\n",
       "    }\n",
       "\n",
       "    .dataframe tbody tr th {\n",
       "        vertical-align: top;\n",
       "    }\n",
       "\n",
       "    .dataframe thead th {\n",
       "        text-align: right;\n",
       "    }\n",
       "</style>\n",
       "<table border=\"1\" class=\"dataframe\">\n",
       "  <thead>\n",
       "    <tr style=\"text-align: right;\">\n",
       "      <th></th>\n",
       "      <th>name</th>\n",
       "      <th>age</th>\n",
       "      <th>gender</th>\n",
       "      <th>status</th>\n",
       "    </tr>\n",
       "  </thead>\n",
       "  <tbody>\n",
       "    <tr>\n",
       "      <th>0</th>\n",
       "      <td>kal</td>\n",
       "      <td>20</td>\n",
       "      <td>female</td>\n",
       "      <td>NaN</td>\n",
       "    </tr>\n",
       "    <tr>\n",
       "      <th>1</th>\n",
       "      <td>liam</td>\n",
       "      <td>13</td>\n",
       "      <td>male</td>\n",
       "      <td>NaN</td>\n",
       "    </tr>\n",
       "    <tr>\n",
       "      <th>2</th>\n",
       "      <td>jorel</td>\n",
       "      <td>24</td>\n",
       "      <td>male</td>\n",
       "      <td>NaN</td>\n",
       "    </tr>\n",
       "    <tr>\n",
       "      <th>3</th>\n",
       "      <td>mama</td>\n",
       "      <td>47</td>\n",
       "      <td>female</td>\n",
       "      <td>NaN</td>\n",
       "    </tr>\n",
       "    <tr>\n",
       "      <th>4</th>\n",
       "      <td>dada</td>\n",
       "      <td>51</td>\n",
       "      <td>male</td>\n",
       "      <td>NaN</td>\n",
       "    </tr>\n",
       "  </tbody>\n",
       "</table>\n",
       "</div>"
      ],
      "text/plain": [
       "    name  age  gender  status\n",
       "0    kal   20  female     NaN\n",
       "1   liam   13    male     NaN\n",
       "2  jorel   24    male     NaN\n",
       "3   mama   47  female     NaN\n",
       "4   dada   51    male     NaN"
      ]
     },
     "execution_count": 13,
     "metadata": {},
     "output_type": "execute_result"
    }
   ],
   "source": [
    "df"
   ]
  },
  {
   "cell_type": "markdown",
   "id": "44406244",
   "metadata": {},
   "source": [
    "# CODE TO PRINT THE NUMBER OF NP ARRAY IN DESCENDING ORDER"
   ]
  },
  {
   "cell_type": "code",
   "execution_count": 6,
   "id": "5bfcf3b7",
   "metadata": {},
   "outputs": [
    {
     "name": "stdout",
     "output_type": "stream",
     "text": [
      "[5 4 3 2 1]\n"
     ]
    }
   ],
   "source": [
    "arr1 = np.array([4, 2, 1, 5, 3])\n",
    "sorted = np.sort(arr1)[::-1]\n",
    "print(sorted)"
   ]
  }
 ],
 "metadata": {
  "kernelspec": {
   "display_name": ".venv",
   "language": "python",
   "name": "python3"
  },
  "language_info": {
   "codemirror_mode": {
    "name": "ipython",
    "version": 3
   },
   "file_extension": ".py",
   "mimetype": "text/x-python",
   "name": "python",
   "nbconvert_exporter": "python",
   "pygments_lexer": "ipython3",
   "version": "3.12.6"
  }
 },
 "nbformat": 4,
 "nbformat_minor": 5
}
