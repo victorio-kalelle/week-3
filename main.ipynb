{
 "cells": [
  {
   "cell_type": "code",
   "execution_count": 35,
   "id": "61079e36",
   "metadata": {},
   "outputs": [],
   "source": [
    "import numpy as np\n",
    "import pandas as pd\n",
    "import matplotlib.pyplot as plt"
   ]
  },
  {
   "cell_type": "code",
   "execution_count": 36,
   "id": "a85499bf",
   "metadata": {},
   "outputs": [],
   "source": [
    "df = pd.read_csv('raw_data.csv')"
   ]
  },
  {
   "cell_type": "code",
   "execution_count": 37,
   "id": "51398059",
   "metadata": {},
   "outputs": [
    {
     "data": {
      "application/vnd.microsoft.datawrangler.viewer.v0+json": {
       "columns": [
        {
         "name": "index",
         "rawType": "int64",
         "type": "integer"
        },
        {
         "name": "age",
         "rawType": "int64",
         "type": "integer"
        },
        {
         "name": "years_experience",
         "rawType": "int64",
         "type": "integer"
        },
        {
         "name": "education_level",
         "rawType": "object",
         "type": "string"
        },
        {
         "name": "group_department",
         "rawType": "object",
         "type": "string"
        },
        {
         "name": "performancescore",
         "rawType": "float64",
         "type": "float"
        },
        {
         "name": "performance_category",
         "rawType": "object",
         "type": "unknown"
        }
       ],
       "ref": "5e654ffa-cee7-4ee7-aabf-34a6376d2ad5",
       "rows": [
        [
         "0",
         "58",
         "23",
         "High School",
         "Finance",
         "10.0",
         "Excellent"
        ],
        [
         "1",
         "48",
         "39",
         "Bchelor",
         "HR",
         null,
         null
        ],
        [
         "2",
         "34",
         "15",
         "High School",
         "HR",
         "5.0",
         null
        ],
        [
         "3",
         "40",
         "29",
         "PhD",
         "HR",
         "4.0",
         "Average"
        ],
        [
         "4",
         "40",
         "36",
         "PhD",
         "Finance",
         "2.0",
         "Poor"
        ],
        [
         "5",
         "58",
         "13",
         "PhD",
         "Tech",
         "4.0",
         "Average"
        ],
        [
         "6",
         "38",
         "32",
         "PhD",
         "Tech",
         "10.0",
         "Excellent"
        ],
        [
         "7",
         "42",
         "7",
         "PhD",
         "Finance",
         "10.0",
         "Excellent"
        ],
        [
         "8",
         "30",
         "22",
         "Master's",
         "HR",
         "3.0",
         "Poor"
        ],
        [
         "9",
         "30",
         "28",
         "Master",
         "HR",
         "10.0",
         "Excellent"
        ],
        [
         "10",
         "43",
         "2",
         "Hs",
         "Tech",
         "1.0",
         "Poor"
        ],
        [
         "11",
         "55",
         "6",
         "PhD",
         "HR",
         "8.0",
         "Very Good"
        ],
        [
         "12",
         "59",
         "28",
         "High School",
         "Sales",
         "5.0",
         "Average"
        ],
        [
         "13",
         "43",
         "28",
         "PhD",
         "Tech",
         "4.0",
         "Average"
        ],
        [
         "14",
         "22",
         "20",
         "PhD",
         "HR",
         "8.0",
         "Very Good"
        ],
        [
         "15",
         "41",
         "30",
         "Master",
         "Tech",
         "7.0",
         "Good"
        ],
        [
         "16",
         "21",
         "11",
         "Master",
         "Sales",
         "2.0",
         "Poor"
        ],
        [
         "17",
         "43",
         "28",
         "Bachelor",
         "Tech",
         "1.0",
         "Poor"
        ],
        [
         "18",
         "49",
         "25",
         "Master",
         "Tech",
         "4.0",
         "Average"
        ],
        [
         "19",
         "57",
         "39",
         "Bachelor",
         "Tech",
         "8.0",
         "Very Good"
        ],
        [
         "20",
         "21",
         "33",
         "Bachelor",
         "Tech",
         "2.0",
         "Poor"
        ],
        [
         "21",
         "40",
         "1",
         "Bachelor",
         "Sales",
         "3.0",
         "Poor"
        ],
        [
         "22",
         "52",
         "27",
         "Bachelor",
         "Finance",
         "1.0",
         "Poor"
        ],
        [
         "23",
         "31",
         "13",
         "Bachelor",
         "Tech",
         "1.0",
         "Poor"
        ],
        [
         "24",
         "41",
         "3",
         "High School",
         "Tech",
         "3.0",
         "Poor"
        ],
        [
         "25",
         "44",
         "39",
         "Master",
         "HR",
         "5.0",
         "Average"
        ],
        [
         "26",
         "46",
         "6",
         "Bachelor",
         "Tech",
         "3.0",
         "Poor"
        ],
        [
         "27",
         "47",
         "8",
         "PhD",
         "HR",
         "1.0",
         "Poor"
        ],
        [
         "28",
         "35",
         "27",
         "Master",
         "Finance",
         "1.0",
         "Poor"
        ],
        [
         "29",
         "34",
         "9",
         "Master",
         "Sales",
         "8.0",
         "Very Good"
        ],
        [
         "30",
         "22",
         "37",
         "Bachelor",
         "Sales",
         "10.0",
         "Excellent"
        ],
        [
         "31",
         "56",
         "33",
         "High School",
         "Finance",
         "2.0",
         "Poor"
        ],
        [
         "32",
         "26",
         "24",
         "Bachelor",
         "Sales",
         "3.0",
         "Poor"
        ],
        [
         "33",
         "40",
         "15",
         "High School",
         "Finance",
         "2.0",
         "Poor"
        ],
        [
         "34",
         "28",
         "32",
         "PhD",
         "Finance",
         "3.0",
         "Poor"
        ],
        [
         "35",
         "58",
         "32",
         "Master",
         "Finance",
         "7.0",
         "Good"
        ],
        [
         "36",
         "37",
         "24",
         "PhD",
         "Sales",
         "1.0",
         "Poor"
        ],
        [
         "37",
         "23",
         "12",
         "High School",
         "HR",
         "10.0",
         "Excellent"
        ],
        [
         "38",
         "44",
         "39",
         "High School",
         "Finance",
         "8.0",
         "Very Good"
        ],
        [
         "39",
         "33",
         "2",
         "PhD",
         "Tech",
         "10.0",
         "Excellent"
        ],
        [
         "40",
         "28",
         "3",
         "High School",
         "Sales",
         "10.0",
         "Excellent"
        ],
        [
         "41",
         "45",
         "37",
         "PhD",
         "Finance",
         "10.0",
         "Excellent"
        ],
        [
         "42",
         "21",
         "17",
         "Master",
         "Finance",
         "2.0",
         "Poor"
        ],
        [
         "43",
         "39",
         "2",
         "PhD",
         "Tech",
         "3.0",
         "Poor"
        ],
        [
         "44",
         "47",
         "2",
         "Master",
         "HR",
         "9.0",
         "Very Good"
        ],
        [
         "45",
         "26",
         "28",
         "PhD",
         "HR",
         "7.0",
         "Good"
        ],
        [
         "46",
         "27",
         "23",
         "High School",
         "HR",
         "4.0",
         "Average"
        ],
        [
         "47",
         "54",
         "37",
         "PhD",
         "Finance",
         "10.0",
         "Excellent"
        ],
        [
         "48",
         "33",
         "32",
         "High School",
         "Finance",
         "5.0",
         "Average"
        ],
        [
         "49",
         "36",
         "33",
         "PhD",
         "Finance",
         "2.0",
         "Poor"
        ]
       ],
       "shape": {
        "columns": 6,
        "rows": 791
       }
      },
      "text/html": [
       "<div>\n",
       "<style scoped>\n",
       "    .dataframe tbody tr th:only-of-type {\n",
       "        vertical-align: middle;\n",
       "    }\n",
       "\n",
       "    .dataframe tbody tr th {\n",
       "        vertical-align: top;\n",
       "    }\n",
       "\n",
       "    .dataframe thead th {\n",
       "        text-align: right;\n",
       "    }\n",
       "</style>\n",
       "<table border=\"1\" class=\"dataframe\">\n",
       "  <thead>\n",
       "    <tr style=\"text-align: right;\">\n",
       "      <th></th>\n",
       "      <th>age</th>\n",
       "      <th>years_experience</th>\n",
       "      <th>education_level</th>\n",
       "      <th>group_department</th>\n",
       "      <th>performancescore</th>\n",
       "      <th>performance_category</th>\n",
       "    </tr>\n",
       "  </thead>\n",
       "  <tbody>\n",
       "    <tr>\n",
       "      <th>0</th>\n",
       "      <td>58</td>\n",
       "      <td>23</td>\n",
       "      <td>High School</td>\n",
       "      <td>Finance</td>\n",
       "      <td>10.0</td>\n",
       "      <td>Excellent</td>\n",
       "    </tr>\n",
       "    <tr>\n",
       "      <th>1</th>\n",
       "      <td>48</td>\n",
       "      <td>39</td>\n",
       "      <td>Bchelor</td>\n",
       "      <td>HR</td>\n",
       "      <td>NaN</td>\n",
       "      <td>NaN</td>\n",
       "    </tr>\n",
       "    <tr>\n",
       "      <th>2</th>\n",
       "      <td>34</td>\n",
       "      <td>15</td>\n",
       "      <td>High School</td>\n",
       "      <td>HR</td>\n",
       "      <td>5.0</td>\n",
       "      <td>NaN</td>\n",
       "    </tr>\n",
       "    <tr>\n",
       "      <th>3</th>\n",
       "      <td>40</td>\n",
       "      <td>29</td>\n",
       "      <td>PhD</td>\n",
       "      <td>HR</td>\n",
       "      <td>4.0</td>\n",
       "      <td>Average</td>\n",
       "    </tr>\n",
       "    <tr>\n",
       "      <th>4</th>\n",
       "      <td>40</td>\n",
       "      <td>36</td>\n",
       "      <td>PhD</td>\n",
       "      <td>Finance</td>\n",
       "      <td>2.0</td>\n",
       "      <td>Poor</td>\n",
       "    </tr>\n",
       "    <tr>\n",
       "      <th>...</th>\n",
       "      <td>...</td>\n",
       "      <td>...</td>\n",
       "      <td>...</td>\n",
       "      <td>...</td>\n",
       "      <td>...</td>\n",
       "      <td>...</td>\n",
       "    </tr>\n",
       "    <tr>\n",
       "      <th>786</th>\n",
       "      <td>21</td>\n",
       "      <td>19</td>\n",
       "      <td>Bachelor</td>\n",
       "      <td>Sales</td>\n",
       "      <td>9.0</td>\n",
       "      <td>Very Good</td>\n",
       "    </tr>\n",
       "    <tr>\n",
       "      <th>787</th>\n",
       "      <td>25</td>\n",
       "      <td>4</td>\n",
       "      <td>Master</td>\n",
       "      <td>Finance</td>\n",
       "      <td>4.0</td>\n",
       "      <td>Average</td>\n",
       "    </tr>\n",
       "    <tr>\n",
       "      <th>788</th>\n",
       "      <td>47</td>\n",
       "      <td>35</td>\n",
       "      <td>Bachelor</td>\n",
       "      <td>Finance</td>\n",
       "      <td>6.0</td>\n",
       "      <td>Good</td>\n",
       "    </tr>\n",
       "    <tr>\n",
       "      <th>789</th>\n",
       "      <td>47</td>\n",
       "      <td>17</td>\n",
       "      <td>High School</td>\n",
       "      <td>Sales</td>\n",
       "      <td>1.0</td>\n",
       "      <td>Poor</td>\n",
       "    </tr>\n",
       "    <tr>\n",
       "      <th>790</th>\n",
       "      <td>39</td>\n",
       "      <td>28</td>\n",
       "      <td>Bachelor</td>\n",
       "      <td>Sales</td>\n",
       "      <td>9.0</td>\n",
       "      <td>Very Good</td>\n",
       "    </tr>\n",
       "  </tbody>\n",
       "</table>\n",
       "<p>791 rows × 6 columns</p>\n",
       "</div>"
      ],
      "text/plain": [
       "     age  years_experience education_level group_department  performancescore  \\\n",
       "0     58                23     High School          Finance              10.0   \n",
       "1     48                39         Bchelor               HR               NaN   \n",
       "2     34                15     High School               HR               5.0   \n",
       "3     40                29             PhD               HR               4.0   \n",
       "4     40                36             PhD          Finance               2.0   \n",
       "..   ...               ...             ...              ...               ...   \n",
       "786   21                19        Bachelor            Sales               9.0   \n",
       "787   25                 4          Master          Finance               4.0   \n",
       "788   47                35        Bachelor          Finance               6.0   \n",
       "789   47                17     High School            Sales               1.0   \n",
       "790   39                28        Bachelor            Sales               9.0   \n",
       "\n",
       "    performance_category  \n",
       "0              Excellent  \n",
       "1                    NaN  \n",
       "2                    NaN  \n",
       "3                Average  \n",
       "4                   Poor  \n",
       "..                   ...  \n",
       "786            Very Good  \n",
       "787              Average  \n",
       "788                 Good  \n",
       "789                 Poor  \n",
       "790            Very Good  \n",
       "\n",
       "[791 rows x 6 columns]"
      ]
     },
     "execution_count": 37,
     "metadata": {},
     "output_type": "execute_result"
    }
   ],
   "source": [
    "df"
   ]
  },
  {
   "cell_type": "code",
   "execution_count": 38,
   "id": "a05d4bb4",
   "metadata": {},
   "outputs": [
    {
     "data": {
      "text/plain": [
       "(791, 6)"
      ]
     },
     "execution_count": 38,
     "metadata": {},
     "output_type": "execute_result"
    }
   ],
   "source": [
    "df.shape"
   ]
  },
  {
   "cell_type": "code",
   "execution_count": 39,
   "id": "bcf2252c",
   "metadata": {},
   "outputs": [
    {
     "data": {
      "application/vnd.microsoft.datawrangler.viewer.v0+json": {
       "columns": [
        {
         "name": "index",
         "rawType": "int64",
         "type": "integer"
        },
        {
         "name": "age",
         "rawType": "int64",
         "type": "integer"
        },
        {
         "name": "years_experience",
         "rawType": "int64",
         "type": "integer"
        },
        {
         "name": "education_level",
         "rawType": "object",
         "type": "string"
        },
        {
         "name": "group_department",
         "rawType": "object",
         "type": "string"
        },
        {
         "name": "performancescore",
         "rawType": "float64",
         "type": "float"
        },
        {
         "name": "performance_category",
         "rawType": "object",
         "type": "unknown"
        }
       ],
       "ref": "bb314cf9-1065-4959-a4bf-204148e66db8",
       "rows": [
        [
         "0",
         "58",
         "23",
         "High School",
         "Finance",
         "10.0",
         "Excellent"
        ],
        [
         "1",
         "48",
         "39",
         "Bchelor",
         "HR",
         null,
         null
        ],
        [
         "2",
         "34",
         "15",
         "High School",
         "HR",
         "5.0",
         null
        ],
        [
         "3",
         "40",
         "29",
         "PhD",
         "HR",
         "4.0",
         "Average"
        ],
        [
         "4",
         "40",
         "36",
         "PhD",
         "Finance",
         "2.0",
         "Poor"
        ]
       ],
       "shape": {
        "columns": 6,
        "rows": 5
       }
      },
      "text/html": [
       "<div>\n",
       "<style scoped>\n",
       "    .dataframe tbody tr th:only-of-type {\n",
       "        vertical-align: middle;\n",
       "    }\n",
       "\n",
       "    .dataframe tbody tr th {\n",
       "        vertical-align: top;\n",
       "    }\n",
       "\n",
       "    .dataframe thead th {\n",
       "        text-align: right;\n",
       "    }\n",
       "</style>\n",
       "<table border=\"1\" class=\"dataframe\">\n",
       "  <thead>\n",
       "    <tr style=\"text-align: right;\">\n",
       "      <th></th>\n",
       "      <th>age</th>\n",
       "      <th>years_experience</th>\n",
       "      <th>education_level</th>\n",
       "      <th>group_department</th>\n",
       "      <th>performancescore</th>\n",
       "      <th>performance_category</th>\n",
       "    </tr>\n",
       "  </thead>\n",
       "  <tbody>\n",
       "    <tr>\n",
       "      <th>0</th>\n",
       "      <td>58</td>\n",
       "      <td>23</td>\n",
       "      <td>High School</td>\n",
       "      <td>Finance</td>\n",
       "      <td>10.0</td>\n",
       "      <td>Excellent</td>\n",
       "    </tr>\n",
       "    <tr>\n",
       "      <th>1</th>\n",
       "      <td>48</td>\n",
       "      <td>39</td>\n",
       "      <td>Bchelor</td>\n",
       "      <td>HR</td>\n",
       "      <td>NaN</td>\n",
       "      <td>NaN</td>\n",
       "    </tr>\n",
       "    <tr>\n",
       "      <th>2</th>\n",
       "      <td>34</td>\n",
       "      <td>15</td>\n",
       "      <td>High School</td>\n",
       "      <td>HR</td>\n",
       "      <td>5.0</td>\n",
       "      <td>NaN</td>\n",
       "    </tr>\n",
       "    <tr>\n",
       "      <th>3</th>\n",
       "      <td>40</td>\n",
       "      <td>29</td>\n",
       "      <td>PhD</td>\n",
       "      <td>HR</td>\n",
       "      <td>4.0</td>\n",
       "      <td>Average</td>\n",
       "    </tr>\n",
       "    <tr>\n",
       "      <th>4</th>\n",
       "      <td>40</td>\n",
       "      <td>36</td>\n",
       "      <td>PhD</td>\n",
       "      <td>Finance</td>\n",
       "      <td>2.0</td>\n",
       "      <td>Poor</td>\n",
       "    </tr>\n",
       "  </tbody>\n",
       "</table>\n",
       "</div>"
      ],
      "text/plain": [
       "   age  years_experience education_level group_department  performancescore  \\\n",
       "0   58                23     High School          Finance              10.0   \n",
       "1   48                39         Bchelor               HR               NaN   \n",
       "2   34                15     High School               HR               5.0   \n",
       "3   40                29             PhD               HR               4.0   \n",
       "4   40                36             PhD          Finance               2.0   \n",
       "\n",
       "  performance_category  \n",
       "0            Excellent  \n",
       "1                  NaN  \n",
       "2                  NaN  \n",
       "3              Average  \n",
       "4                 Poor  "
      ]
     },
     "execution_count": 39,
     "metadata": {},
     "output_type": "execute_result"
    }
   ],
   "source": [
    "df.head()"
   ]
  },
  {
   "cell_type": "code",
   "execution_count": 40,
   "id": "8ee1ac68",
   "metadata": {},
   "outputs": [
    {
     "data": {
      "application/vnd.microsoft.datawrangler.viewer.v0+json": {
       "columns": [
        {
         "name": "index",
         "rawType": "int64",
         "type": "integer"
        },
        {
         "name": "age",
         "rawType": "int64",
         "type": "integer"
        },
        {
         "name": "years_experience",
         "rawType": "int64",
         "type": "integer"
        },
        {
         "name": "education_level",
         "rawType": "object",
         "type": "string"
        },
        {
         "name": "group_department",
         "rawType": "object",
         "type": "string"
        },
        {
         "name": "performancescore",
         "rawType": "float64",
         "type": "float"
        },
        {
         "name": "performance_category",
         "rawType": "object",
         "type": "string"
        }
       ],
       "ref": "ffc2329a-11c9-42ca-8207-5dd9a4ae7497",
       "rows": [
        [
         "786",
         "21",
         "19",
         "Bachelor",
         "Sales",
         "9.0",
         "Very Good"
        ],
        [
         "787",
         "25",
         "4",
         "Master",
         "Finance",
         "4.0",
         "Average"
        ],
        [
         "788",
         "47",
         "35",
         "Bachelor",
         "Finance",
         "6.0",
         "Good"
        ],
        [
         "789",
         "47",
         "17",
         "High School",
         "Sales",
         "1.0",
         "Poor"
        ],
        [
         "790",
         "39",
         "28",
         "Bachelor",
         "Sales",
         "9.0",
         "Very Good"
        ]
       ],
       "shape": {
        "columns": 6,
        "rows": 5
       }
      },
      "text/html": [
       "<div>\n",
       "<style scoped>\n",
       "    .dataframe tbody tr th:only-of-type {\n",
       "        vertical-align: middle;\n",
       "    }\n",
       "\n",
       "    .dataframe tbody tr th {\n",
       "        vertical-align: top;\n",
       "    }\n",
       "\n",
       "    .dataframe thead th {\n",
       "        text-align: right;\n",
       "    }\n",
       "</style>\n",
       "<table border=\"1\" class=\"dataframe\">\n",
       "  <thead>\n",
       "    <tr style=\"text-align: right;\">\n",
       "      <th></th>\n",
       "      <th>age</th>\n",
       "      <th>years_experience</th>\n",
       "      <th>education_level</th>\n",
       "      <th>group_department</th>\n",
       "      <th>performancescore</th>\n",
       "      <th>performance_category</th>\n",
       "    </tr>\n",
       "  </thead>\n",
       "  <tbody>\n",
       "    <tr>\n",
       "      <th>786</th>\n",
       "      <td>21</td>\n",
       "      <td>19</td>\n",
       "      <td>Bachelor</td>\n",
       "      <td>Sales</td>\n",
       "      <td>9.0</td>\n",
       "      <td>Very Good</td>\n",
       "    </tr>\n",
       "    <tr>\n",
       "      <th>787</th>\n",
       "      <td>25</td>\n",
       "      <td>4</td>\n",
       "      <td>Master</td>\n",
       "      <td>Finance</td>\n",
       "      <td>4.0</td>\n",
       "      <td>Average</td>\n",
       "    </tr>\n",
       "    <tr>\n",
       "      <th>788</th>\n",
       "      <td>47</td>\n",
       "      <td>35</td>\n",
       "      <td>Bachelor</td>\n",
       "      <td>Finance</td>\n",
       "      <td>6.0</td>\n",
       "      <td>Good</td>\n",
       "    </tr>\n",
       "    <tr>\n",
       "      <th>789</th>\n",
       "      <td>47</td>\n",
       "      <td>17</td>\n",
       "      <td>High School</td>\n",
       "      <td>Sales</td>\n",
       "      <td>1.0</td>\n",
       "      <td>Poor</td>\n",
       "    </tr>\n",
       "    <tr>\n",
       "      <th>790</th>\n",
       "      <td>39</td>\n",
       "      <td>28</td>\n",
       "      <td>Bachelor</td>\n",
       "      <td>Sales</td>\n",
       "      <td>9.0</td>\n",
       "      <td>Very Good</td>\n",
       "    </tr>\n",
       "  </tbody>\n",
       "</table>\n",
       "</div>"
      ],
      "text/plain": [
       "     age  years_experience education_level group_department  performancescore  \\\n",
       "786   21                19        Bachelor            Sales               9.0   \n",
       "787   25                 4          Master          Finance               4.0   \n",
       "788   47                35        Bachelor          Finance               6.0   \n",
       "789   47                17     High School            Sales               1.0   \n",
       "790   39                28        Bachelor            Sales               9.0   \n",
       "\n",
       "    performance_category  \n",
       "786            Very Good  \n",
       "787              Average  \n",
       "788                 Good  \n",
       "789                 Poor  \n",
       "790            Very Good  "
      ]
     },
     "execution_count": 40,
     "metadata": {},
     "output_type": "execute_result"
    }
   ],
   "source": [
    "df.tail()"
   ]
  },
  {
   "cell_type": "code",
   "execution_count": 41,
   "id": "faaa83b0",
   "metadata": {},
   "outputs": [
    {
     "name": "stdout",
     "output_type": "stream",
     "text": [
      "<class 'pandas.core.frame.DataFrame'>\n",
      "RangeIndex: 791 entries, 0 to 790\n",
      "Data columns (total 6 columns):\n",
      " #   Column                Non-Null Count  Dtype  \n",
      "---  ------                --------------  -----  \n",
      " 0   age                   791 non-null    int64  \n",
      " 1   years_experience      791 non-null    int64  \n",
      " 2   education_level       791 non-null    object \n",
      " 3   group_department      791 non-null    object \n",
      " 4   performancescore      790 non-null    float64\n",
      " 5   performance_category  789 non-null    object \n",
      "dtypes: float64(1), int64(2), object(3)\n",
      "memory usage: 37.2+ KB\n"
     ]
    }
   ],
   "source": [
    "df.info()"
   ]
  },
  {
   "cell_type": "code",
   "execution_count": 42,
   "id": "0947cf8a",
   "metadata": {},
   "outputs": [
    {
     "data": {
      "application/vnd.microsoft.datawrangler.viewer.v0+json": {
       "columns": [
        {
         "name": "index",
         "rawType": "object",
         "type": "string"
        },
        {
         "name": "0",
         "rawType": "int64",
         "type": "integer"
        }
       ],
       "ref": "360b4daa-e240-46ac-a2d3-58485ccfb9a1",
       "rows": [
        [
         "age",
         "0"
        ],
        [
         "years_experience",
         "0"
        ],
        [
         "education_level",
         "0"
        ],
        [
         "group_department",
         "0"
        ],
        [
         "performancescore",
         "1"
        ],
        [
         "performance_category",
         "2"
        ]
       ],
       "shape": {
        "columns": 1,
        "rows": 6
       }
      },
      "text/plain": [
       "age                     0\n",
       "years_experience        0\n",
       "education_level         0\n",
       "group_department        0\n",
       "performancescore        1\n",
       "performance_category    2\n",
       "dtype: int64"
      ]
     },
     "execution_count": 42,
     "metadata": {},
     "output_type": "execute_result"
    }
   ],
   "source": [
    "df.isnull().sum()"
   ]
  },
  {
   "cell_type": "code",
   "execution_count": 43,
   "id": "35faa39b",
   "metadata": {},
   "outputs": [
    {
     "data": {
      "text/plain": [
       "array(['High School', 'Bchelor', 'PhD', \"Master's\", 'Master', 'Hs',\n",
       "       'Bachelor'], dtype=object)"
      ]
     },
     "execution_count": 43,
     "metadata": {},
     "output_type": "execute_result"
    }
   ],
   "source": [
    "df['education_level'].unique()"
   ]
  },
  {
   "cell_type": "code",
   "execution_count": 44,
   "id": "508b5cbe",
   "metadata": {},
   "outputs": [
    {
     "data": {
      "text/plain": [
       "Index(['age', 'years_experience', 'education_level', 'group_department',\n",
       "       'performancescore', 'performance_category'],\n",
       "      dtype='object')"
      ]
     },
     "execution_count": 44,
     "metadata": {},
     "output_type": "execute_result"
    }
   ],
   "source": [
    "df.columns"
   ]
  },
  {
   "cell_type": "code",
   "execution_count": 45,
   "id": "a9461456",
   "metadata": {},
   "outputs": [
    {
     "data": {
      "application/vnd.microsoft.datawrangler.viewer.v0+json": {
       "columns": [
        {
         "name": "index",
         "rawType": "int64",
         "type": "integer"
        },
        {
         "name": "age",
         "rawType": "int64",
         "type": "integer"
        },
        {
         "name": "years_experience",
         "rawType": "int64",
         "type": "integer"
        },
        {
         "name": "education_level",
         "rawType": "object",
         "type": "string"
        },
        {
         "name": "department",
         "rawType": "object",
         "type": "string"
        },
        {
         "name": "performance_score",
         "rawType": "float64",
         "type": "float"
        },
        {
         "name": "performance_category",
         "rawType": "object",
         "type": "unknown"
        }
       ],
       "ref": "b03daf20-d68f-4b06-b346-a67b90565da8",
       "rows": [
        [
         "0",
         "58",
         "23",
         "High School",
         "Finance",
         "10.0",
         "Excellent"
        ],
        [
         "1",
         "48",
         "39",
         "Bchelor",
         "HR",
         null,
         null
        ],
        [
         "2",
         "34",
         "15",
         "High School",
         "HR",
         "5.0",
         null
        ],
        [
         "3",
         "40",
         "29",
         "PhD",
         "HR",
         "4.0",
         "Average"
        ],
        [
         "4",
         "40",
         "36",
         "PhD",
         "Finance",
         "2.0",
         "Poor"
        ],
        [
         "5",
         "58",
         "13",
         "PhD",
         "Tech",
         "4.0",
         "Average"
        ],
        [
         "6",
         "38",
         "32",
         "PhD",
         "Tech",
         "10.0",
         "Excellent"
        ],
        [
         "7",
         "42",
         "7",
         "PhD",
         "Finance",
         "10.0",
         "Excellent"
        ],
        [
         "8",
         "30",
         "22",
         "Master's",
         "HR",
         "3.0",
         "Poor"
        ],
        [
         "9",
         "30",
         "28",
         "Master",
         "HR",
         "10.0",
         "Excellent"
        ],
        [
         "10",
         "43",
         "2",
         "Hs",
         "Tech",
         "1.0",
         "Poor"
        ],
        [
         "11",
         "55",
         "6",
         "PhD",
         "HR",
         "8.0",
         "Very Good"
        ],
        [
         "12",
         "59",
         "28",
         "High School",
         "Sales",
         "5.0",
         "Average"
        ],
        [
         "13",
         "43",
         "28",
         "PhD",
         "Tech",
         "4.0",
         "Average"
        ],
        [
         "14",
         "22",
         "20",
         "PhD",
         "HR",
         "8.0",
         "Very Good"
        ],
        [
         "15",
         "41",
         "30",
         "Master",
         "Tech",
         "7.0",
         "Good"
        ],
        [
         "16",
         "21",
         "11",
         "Master",
         "Sales",
         "2.0",
         "Poor"
        ],
        [
         "17",
         "43",
         "28",
         "Bachelor",
         "Tech",
         "1.0",
         "Poor"
        ],
        [
         "18",
         "49",
         "25",
         "Master",
         "Tech",
         "4.0",
         "Average"
        ],
        [
         "19",
         "57",
         "39",
         "Bachelor",
         "Tech",
         "8.0",
         "Very Good"
        ],
        [
         "20",
         "21",
         "33",
         "Bachelor",
         "Tech",
         "2.0",
         "Poor"
        ],
        [
         "21",
         "40",
         "1",
         "Bachelor",
         "Sales",
         "3.0",
         "Poor"
        ],
        [
         "22",
         "52",
         "27",
         "Bachelor",
         "Finance",
         "1.0",
         "Poor"
        ],
        [
         "23",
         "31",
         "13",
         "Bachelor",
         "Tech",
         "1.0",
         "Poor"
        ],
        [
         "24",
         "41",
         "3",
         "High School",
         "Tech",
         "3.0",
         "Poor"
        ],
        [
         "25",
         "44",
         "39",
         "Master",
         "HR",
         "5.0",
         "Average"
        ],
        [
         "26",
         "46",
         "6",
         "Bachelor",
         "Tech",
         "3.0",
         "Poor"
        ],
        [
         "27",
         "47",
         "8",
         "PhD",
         "HR",
         "1.0",
         "Poor"
        ],
        [
         "28",
         "35",
         "27",
         "Master",
         "Finance",
         "1.0",
         "Poor"
        ],
        [
         "29",
         "34",
         "9",
         "Master",
         "Sales",
         "8.0",
         "Very Good"
        ],
        [
         "30",
         "22",
         "37",
         "Bachelor",
         "Sales",
         "10.0",
         "Excellent"
        ],
        [
         "31",
         "56",
         "33",
         "High School",
         "Finance",
         "2.0",
         "Poor"
        ],
        [
         "32",
         "26",
         "24",
         "Bachelor",
         "Sales",
         "3.0",
         "Poor"
        ],
        [
         "33",
         "40",
         "15",
         "High School",
         "Finance",
         "2.0",
         "Poor"
        ],
        [
         "34",
         "28",
         "32",
         "PhD",
         "Finance",
         "3.0",
         "Poor"
        ],
        [
         "35",
         "58",
         "32",
         "Master",
         "Finance",
         "7.0",
         "Good"
        ],
        [
         "36",
         "37",
         "24",
         "PhD",
         "Sales",
         "1.0",
         "Poor"
        ],
        [
         "37",
         "23",
         "12",
         "High School",
         "HR",
         "10.0",
         "Excellent"
        ],
        [
         "38",
         "44",
         "39",
         "High School",
         "Finance",
         "8.0",
         "Very Good"
        ],
        [
         "39",
         "33",
         "2",
         "PhD",
         "Tech",
         "10.0",
         "Excellent"
        ],
        [
         "40",
         "28",
         "3",
         "High School",
         "Sales",
         "10.0",
         "Excellent"
        ],
        [
         "41",
         "45",
         "37",
         "PhD",
         "Finance",
         "10.0",
         "Excellent"
        ],
        [
         "42",
         "21",
         "17",
         "Master",
         "Finance",
         "2.0",
         "Poor"
        ],
        [
         "43",
         "39",
         "2",
         "PhD",
         "Tech",
         "3.0",
         "Poor"
        ],
        [
         "44",
         "47",
         "2",
         "Master",
         "HR",
         "9.0",
         "Very Good"
        ],
        [
         "45",
         "26",
         "28",
         "PhD",
         "HR",
         "7.0",
         "Good"
        ],
        [
         "46",
         "27",
         "23",
         "High School",
         "HR",
         "4.0",
         "Average"
        ],
        [
         "47",
         "54",
         "37",
         "PhD",
         "Finance",
         "10.0",
         "Excellent"
        ],
        [
         "48",
         "33",
         "32",
         "High School",
         "Finance",
         "5.0",
         "Average"
        ],
        [
         "49",
         "36",
         "33",
         "PhD",
         "Finance",
         "2.0",
         "Poor"
        ]
       ],
       "shape": {
        "columns": 6,
        "rows": 791
       }
      },
      "text/html": [
       "<div>\n",
       "<style scoped>\n",
       "    .dataframe tbody tr th:only-of-type {\n",
       "        vertical-align: middle;\n",
       "    }\n",
       "\n",
       "    .dataframe tbody tr th {\n",
       "        vertical-align: top;\n",
       "    }\n",
       "\n",
       "    .dataframe thead th {\n",
       "        text-align: right;\n",
       "    }\n",
       "</style>\n",
       "<table border=\"1\" class=\"dataframe\">\n",
       "  <thead>\n",
       "    <tr style=\"text-align: right;\">\n",
       "      <th></th>\n",
       "      <th>age</th>\n",
       "      <th>years_experience</th>\n",
       "      <th>education_level</th>\n",
       "      <th>department</th>\n",
       "      <th>performance_score</th>\n",
       "      <th>performance_category</th>\n",
       "    </tr>\n",
       "  </thead>\n",
       "  <tbody>\n",
       "    <tr>\n",
       "      <th>0</th>\n",
       "      <td>58</td>\n",
       "      <td>23</td>\n",
       "      <td>High School</td>\n",
       "      <td>Finance</td>\n",
       "      <td>10.0</td>\n",
       "      <td>Excellent</td>\n",
       "    </tr>\n",
       "    <tr>\n",
       "      <th>1</th>\n",
       "      <td>48</td>\n",
       "      <td>39</td>\n",
       "      <td>Bchelor</td>\n",
       "      <td>HR</td>\n",
       "      <td>NaN</td>\n",
       "      <td>NaN</td>\n",
       "    </tr>\n",
       "    <tr>\n",
       "      <th>2</th>\n",
       "      <td>34</td>\n",
       "      <td>15</td>\n",
       "      <td>High School</td>\n",
       "      <td>HR</td>\n",
       "      <td>5.0</td>\n",
       "      <td>NaN</td>\n",
       "    </tr>\n",
       "    <tr>\n",
       "      <th>3</th>\n",
       "      <td>40</td>\n",
       "      <td>29</td>\n",
       "      <td>PhD</td>\n",
       "      <td>HR</td>\n",
       "      <td>4.0</td>\n",
       "      <td>Average</td>\n",
       "    </tr>\n",
       "    <tr>\n",
       "      <th>4</th>\n",
       "      <td>40</td>\n",
       "      <td>36</td>\n",
       "      <td>PhD</td>\n",
       "      <td>Finance</td>\n",
       "      <td>2.0</td>\n",
       "      <td>Poor</td>\n",
       "    </tr>\n",
       "    <tr>\n",
       "      <th>...</th>\n",
       "      <td>...</td>\n",
       "      <td>...</td>\n",
       "      <td>...</td>\n",
       "      <td>...</td>\n",
       "      <td>...</td>\n",
       "      <td>...</td>\n",
       "    </tr>\n",
       "    <tr>\n",
       "      <th>786</th>\n",
       "      <td>21</td>\n",
       "      <td>19</td>\n",
       "      <td>Bachelor</td>\n",
       "      <td>Sales</td>\n",
       "      <td>9.0</td>\n",
       "      <td>Very Good</td>\n",
       "    </tr>\n",
       "    <tr>\n",
       "      <th>787</th>\n",
       "      <td>25</td>\n",
       "      <td>4</td>\n",
       "      <td>Master</td>\n",
       "      <td>Finance</td>\n",
       "      <td>4.0</td>\n",
       "      <td>Average</td>\n",
       "    </tr>\n",
       "    <tr>\n",
       "      <th>788</th>\n",
       "      <td>47</td>\n",
       "      <td>35</td>\n",
       "      <td>Bachelor</td>\n",
       "      <td>Finance</td>\n",
       "      <td>6.0</td>\n",
       "      <td>Good</td>\n",
       "    </tr>\n",
       "    <tr>\n",
       "      <th>789</th>\n",
       "      <td>47</td>\n",
       "      <td>17</td>\n",
       "      <td>High School</td>\n",
       "      <td>Sales</td>\n",
       "      <td>1.0</td>\n",
       "      <td>Poor</td>\n",
       "    </tr>\n",
       "    <tr>\n",
       "      <th>790</th>\n",
       "      <td>39</td>\n",
       "      <td>28</td>\n",
       "      <td>Bachelor</td>\n",
       "      <td>Sales</td>\n",
       "      <td>9.0</td>\n",
       "      <td>Very Good</td>\n",
       "    </tr>\n",
       "  </tbody>\n",
       "</table>\n",
       "<p>791 rows × 6 columns</p>\n",
       "</div>"
      ],
      "text/plain": [
       "     age  years_experience education_level department  performance_score  \\\n",
       "0     58                23     High School    Finance               10.0   \n",
       "1     48                39         Bchelor         HR                NaN   \n",
       "2     34                15     High School         HR                5.0   \n",
       "3     40                29             PhD         HR                4.0   \n",
       "4     40                36             PhD    Finance                2.0   \n",
       "..   ...               ...             ...        ...                ...   \n",
       "786   21                19        Bachelor      Sales                9.0   \n",
       "787   25                 4          Master    Finance                4.0   \n",
       "788   47                35        Bachelor    Finance                6.0   \n",
       "789   47                17     High School      Sales                1.0   \n",
       "790   39                28        Bachelor      Sales                9.0   \n",
       "\n",
       "    performance_category  \n",
       "0              Excellent  \n",
       "1                    NaN  \n",
       "2                    NaN  \n",
       "3                Average  \n",
       "4                   Poor  \n",
       "..                   ...  \n",
       "786            Very Good  \n",
       "787              Average  \n",
       "788                 Good  \n",
       "789                 Poor  \n",
       "790            Very Good  \n",
       "\n",
       "[791 rows x 6 columns]"
      ]
     },
     "execution_count": 45,
     "metadata": {},
     "output_type": "execute_result"
    }
   ],
   "source": [
    "df.rename(columns={\n",
    "    'performancescore': 'performance_score',\n",
    "    'group_department': 'department'\n",
    "}, inplace=True)\n",
    "\n",
    "df"
   ]
  },
  {
   "cell_type": "code",
   "execution_count": 47,
   "id": "97dd5806",
   "metadata": {},
   "outputs": [
    {
     "data": {
      "text/plain": [
       "array(['High School', 'Bchelor', 'PhD', \"Master's\", 'Master', 'Hs',\n",
       "       'Bachelor'], dtype=object)"
      ]
     },
     "execution_count": 47,
     "metadata": {},
     "output_type": "execute_result"
    }
   ],
   "source": [
    "df['education_level'].unique()"
   ]
  },
  {
   "cell_type": "code",
   "execution_count": 50,
   "id": "9f98b226",
   "metadata": {},
   "outputs": [
    {
     "name": "stdout",
     "output_type": "stream",
     "text": [
      "['High School' 'Bachelor' 'PhD' 'Master']\n"
     ]
    }
   ],
   "source": [
    "df['education_level'] = df['education_level'].str.strip()\n",
    "\n",
    "edu_map = {\n",
    "    'Bchelor': 'Bachelor',\n",
    "    \"Master's\": 'Master',\n",
    "    'Hs': 'High School'\n",
    "}\n",
    "\n",
    "df['education_level'] = df['education_level'].replace(edu_map)\n",
    "print(df['education_level'].unique())\n"
   ]
  },
  {
   "cell_type": "code",
   "execution_count": 51,
   "id": "3bd4772b",
   "metadata": {},
   "outputs": [
    {
     "data": {
      "application/vnd.microsoft.datawrangler.viewer.v0+json": {
       "columns": [
        {
         "name": "index",
         "rawType": "int64",
         "type": "integer"
        },
        {
         "name": "age",
         "rawType": "int64",
         "type": "integer"
        },
        {
         "name": "years_experience",
         "rawType": "int64",
         "type": "integer"
        },
        {
         "name": "education_level",
         "rawType": "object",
         "type": "string"
        },
        {
         "name": "department",
         "rawType": "object",
         "type": "string"
        },
        {
         "name": "performance_score",
         "rawType": "float64",
         "type": "float"
        },
        {
         "name": "performance_category",
         "rawType": "object",
         "type": "unknown"
        }
       ],
       "ref": "9bfa3260-4ed4-4a2e-a093-59ad4ef4db62",
       "rows": [
        [
         "0",
         "58",
         "23",
         "High School",
         "Finance",
         "10.0",
         "Excellent"
        ],
        [
         "1",
         "48",
         "39",
         "Bachelor",
         "HR",
         null,
         null
        ],
        [
         "2",
         "34",
         "15",
         "High School",
         "HR",
         "5.0",
         null
        ],
        [
         "3",
         "40",
         "29",
         "PhD",
         "HR",
         "4.0",
         "Average"
        ],
        [
         "4",
         "40",
         "36",
         "PhD",
         "Finance",
         "2.0",
         "Poor"
        ],
        [
         "5",
         "58",
         "13",
         "PhD",
         "Tech",
         "4.0",
         "Average"
        ],
        [
         "6",
         "38",
         "32",
         "PhD",
         "Tech",
         "10.0",
         "Excellent"
        ],
        [
         "7",
         "42",
         "7",
         "PhD",
         "Finance",
         "10.0",
         "Excellent"
        ],
        [
         "8",
         "30",
         "22",
         "Master",
         "HR",
         "3.0",
         "Poor"
        ],
        [
         "9",
         "30",
         "28",
         "Master",
         "HR",
         "10.0",
         "Excellent"
        ],
        [
         "10",
         "43",
         "2",
         "High School",
         "Tech",
         "1.0",
         "Poor"
        ],
        [
         "11",
         "55",
         "6",
         "PhD",
         "HR",
         "8.0",
         "Very Good"
        ],
        [
         "12",
         "59",
         "28",
         "High School",
         "Sales",
         "5.0",
         "Average"
        ],
        [
         "13",
         "43",
         "28",
         "PhD",
         "Tech",
         "4.0",
         "Average"
        ],
        [
         "14",
         "22",
         "20",
         "PhD",
         "HR",
         "8.0",
         "Very Good"
        ],
        [
         "15",
         "41",
         "30",
         "Master",
         "Tech",
         "7.0",
         "Good"
        ],
        [
         "16",
         "21",
         "11",
         "Master",
         "Sales",
         "2.0",
         "Poor"
        ],
        [
         "17",
         "43",
         "28",
         "Bachelor",
         "Tech",
         "1.0",
         "Poor"
        ],
        [
         "18",
         "49",
         "25",
         "Master",
         "Tech",
         "4.0",
         "Average"
        ],
        [
         "19",
         "57",
         "39",
         "Bachelor",
         "Tech",
         "8.0",
         "Very Good"
        ],
        [
         "20",
         "21",
         "33",
         "Bachelor",
         "Tech",
         "2.0",
         "Poor"
        ],
        [
         "21",
         "40",
         "1",
         "Bachelor",
         "Sales",
         "3.0",
         "Poor"
        ],
        [
         "22",
         "52",
         "27",
         "Bachelor",
         "Finance",
         "1.0",
         "Poor"
        ],
        [
         "23",
         "31",
         "13",
         "Bachelor",
         "Tech",
         "1.0",
         "Poor"
        ],
        [
         "24",
         "41",
         "3",
         "High School",
         "Tech",
         "3.0",
         "Poor"
        ],
        [
         "25",
         "44",
         "39",
         "Master",
         "HR",
         "5.0",
         "Average"
        ],
        [
         "26",
         "46",
         "6",
         "Bachelor",
         "Tech",
         "3.0",
         "Poor"
        ],
        [
         "27",
         "47",
         "8",
         "PhD",
         "HR",
         "1.0",
         "Poor"
        ],
        [
         "28",
         "35",
         "27",
         "Master",
         "Finance",
         "1.0",
         "Poor"
        ],
        [
         "29",
         "34",
         "9",
         "Master",
         "Sales",
         "8.0",
         "Very Good"
        ],
        [
         "30",
         "22",
         "37",
         "Bachelor",
         "Sales",
         "10.0",
         "Excellent"
        ],
        [
         "31",
         "56",
         "33",
         "High School",
         "Finance",
         "2.0",
         "Poor"
        ],
        [
         "32",
         "26",
         "24",
         "Bachelor",
         "Sales",
         "3.0",
         "Poor"
        ],
        [
         "33",
         "40",
         "15",
         "High School",
         "Finance",
         "2.0",
         "Poor"
        ],
        [
         "34",
         "28",
         "32",
         "PhD",
         "Finance",
         "3.0",
         "Poor"
        ],
        [
         "35",
         "58",
         "32",
         "Master",
         "Finance",
         "7.0",
         "Good"
        ],
        [
         "36",
         "37",
         "24",
         "PhD",
         "Sales",
         "1.0",
         "Poor"
        ],
        [
         "37",
         "23",
         "12",
         "High School",
         "HR",
         "10.0",
         "Excellent"
        ],
        [
         "38",
         "44",
         "39",
         "High School",
         "Finance",
         "8.0",
         "Very Good"
        ],
        [
         "39",
         "33",
         "2",
         "PhD",
         "Tech",
         "10.0",
         "Excellent"
        ],
        [
         "40",
         "28",
         "3",
         "High School",
         "Sales",
         "10.0",
         "Excellent"
        ],
        [
         "41",
         "45",
         "37",
         "PhD",
         "Finance",
         "10.0",
         "Excellent"
        ],
        [
         "42",
         "21",
         "17",
         "Master",
         "Finance",
         "2.0",
         "Poor"
        ],
        [
         "43",
         "39",
         "2",
         "PhD",
         "Tech",
         "3.0",
         "Poor"
        ],
        [
         "44",
         "47",
         "2",
         "Master",
         "HR",
         "9.0",
         "Very Good"
        ],
        [
         "45",
         "26",
         "28",
         "PhD",
         "HR",
         "7.0",
         "Good"
        ],
        [
         "46",
         "27",
         "23",
         "High School",
         "HR",
         "4.0",
         "Average"
        ],
        [
         "47",
         "54",
         "37",
         "PhD",
         "Finance",
         "10.0",
         "Excellent"
        ],
        [
         "48",
         "33",
         "32",
         "High School",
         "Finance",
         "5.0",
         "Average"
        ],
        [
         "49",
         "36",
         "33",
         "PhD",
         "Finance",
         "2.0",
         "Poor"
        ]
       ],
       "shape": {
        "columns": 6,
        "rows": 791
       }
      },
      "text/html": [
       "<div>\n",
       "<style scoped>\n",
       "    .dataframe tbody tr th:only-of-type {\n",
       "        vertical-align: middle;\n",
       "    }\n",
       "\n",
       "    .dataframe tbody tr th {\n",
       "        vertical-align: top;\n",
       "    }\n",
       "\n",
       "    .dataframe thead th {\n",
       "        text-align: right;\n",
       "    }\n",
       "</style>\n",
       "<table border=\"1\" class=\"dataframe\">\n",
       "  <thead>\n",
       "    <tr style=\"text-align: right;\">\n",
       "      <th></th>\n",
       "      <th>age</th>\n",
       "      <th>years_experience</th>\n",
       "      <th>education_level</th>\n",
       "      <th>department</th>\n",
       "      <th>performance_score</th>\n",
       "      <th>performance_category</th>\n",
       "    </tr>\n",
       "  </thead>\n",
       "  <tbody>\n",
       "    <tr>\n",
       "      <th>0</th>\n",
       "      <td>58</td>\n",
       "      <td>23</td>\n",
       "      <td>High School</td>\n",
       "      <td>Finance</td>\n",
       "      <td>10.0</td>\n",
       "      <td>Excellent</td>\n",
       "    </tr>\n",
       "    <tr>\n",
       "      <th>1</th>\n",
       "      <td>48</td>\n",
       "      <td>39</td>\n",
       "      <td>Bachelor</td>\n",
       "      <td>HR</td>\n",
       "      <td>NaN</td>\n",
       "      <td>NaN</td>\n",
       "    </tr>\n",
       "    <tr>\n",
       "      <th>2</th>\n",
       "      <td>34</td>\n",
       "      <td>15</td>\n",
       "      <td>High School</td>\n",
       "      <td>HR</td>\n",
       "      <td>5.0</td>\n",
       "      <td>NaN</td>\n",
       "    </tr>\n",
       "    <tr>\n",
       "      <th>3</th>\n",
       "      <td>40</td>\n",
       "      <td>29</td>\n",
       "      <td>PhD</td>\n",
       "      <td>HR</td>\n",
       "      <td>4.0</td>\n",
       "      <td>Average</td>\n",
       "    </tr>\n",
       "    <tr>\n",
       "      <th>4</th>\n",
       "      <td>40</td>\n",
       "      <td>36</td>\n",
       "      <td>PhD</td>\n",
       "      <td>Finance</td>\n",
       "      <td>2.0</td>\n",
       "      <td>Poor</td>\n",
       "    </tr>\n",
       "    <tr>\n",
       "      <th>...</th>\n",
       "      <td>...</td>\n",
       "      <td>...</td>\n",
       "      <td>...</td>\n",
       "      <td>...</td>\n",
       "      <td>...</td>\n",
       "      <td>...</td>\n",
       "    </tr>\n",
       "    <tr>\n",
       "      <th>786</th>\n",
       "      <td>21</td>\n",
       "      <td>19</td>\n",
       "      <td>Bachelor</td>\n",
       "      <td>Sales</td>\n",
       "      <td>9.0</td>\n",
       "      <td>Very Good</td>\n",
       "    </tr>\n",
       "    <tr>\n",
       "      <th>787</th>\n",
       "      <td>25</td>\n",
       "      <td>4</td>\n",
       "      <td>Master</td>\n",
       "      <td>Finance</td>\n",
       "      <td>4.0</td>\n",
       "      <td>Average</td>\n",
       "    </tr>\n",
       "    <tr>\n",
       "      <th>788</th>\n",
       "      <td>47</td>\n",
       "      <td>35</td>\n",
       "      <td>Bachelor</td>\n",
       "      <td>Finance</td>\n",
       "      <td>6.0</td>\n",
       "      <td>Good</td>\n",
       "    </tr>\n",
       "    <tr>\n",
       "      <th>789</th>\n",
       "      <td>47</td>\n",
       "      <td>17</td>\n",
       "      <td>High School</td>\n",
       "      <td>Sales</td>\n",
       "      <td>1.0</td>\n",
       "      <td>Poor</td>\n",
       "    </tr>\n",
       "    <tr>\n",
       "      <th>790</th>\n",
       "      <td>39</td>\n",
       "      <td>28</td>\n",
       "      <td>Bachelor</td>\n",
       "      <td>Sales</td>\n",
       "      <td>9.0</td>\n",
       "      <td>Very Good</td>\n",
       "    </tr>\n",
       "  </tbody>\n",
       "</table>\n",
       "<p>791 rows × 6 columns</p>\n",
       "</div>"
      ],
      "text/plain": [
       "     age  years_experience education_level department  performance_score  \\\n",
       "0     58                23     High School    Finance               10.0   \n",
       "1     48                39        Bachelor         HR                NaN   \n",
       "2     34                15     High School         HR                5.0   \n",
       "3     40                29             PhD         HR                4.0   \n",
       "4     40                36             PhD    Finance                2.0   \n",
       "..   ...               ...             ...        ...                ...   \n",
       "786   21                19        Bachelor      Sales                9.0   \n",
       "787   25                 4          Master    Finance                4.0   \n",
       "788   47                35        Bachelor    Finance                6.0   \n",
       "789   47                17     High School      Sales                1.0   \n",
       "790   39                28        Bachelor      Sales                9.0   \n",
       "\n",
       "    performance_category  \n",
       "0              Excellent  \n",
       "1                    NaN  \n",
       "2                    NaN  \n",
       "3                Average  \n",
       "4                   Poor  \n",
       "..                   ...  \n",
       "786            Very Good  \n",
       "787              Average  \n",
       "788                 Good  \n",
       "789                 Poor  \n",
       "790            Very Good  \n",
       "\n",
       "[791 rows x 6 columns]"
      ]
     },
     "execution_count": 51,
     "metadata": {},
     "output_type": "execute_result"
    }
   ],
   "source": [
    "df"
   ]
  },
  {
   "cell_type": "code",
   "execution_count": null,
   "id": "886dbe25",
   "metadata": {},
   "outputs": [
    {
     "data": {
      "application/vnd.microsoft.datawrangler.viewer.v0+json": {
       "columns": [
        {
         "name": "index",
         "rawType": "int64",
         "type": "integer"
        },
        {
         "name": "age",
         "rawType": "int64",
         "type": "integer"
        },
        {
         "name": "years_experience",
         "rawType": "int64",
         "type": "integer"
        },
        {
         "name": "education_level",
         "rawType": "object",
         "type": "string"
        },
        {
         "name": "department",
         "rawType": "object",
         "type": "string"
        },
        {
         "name": "performance_score",
         "rawType": "float64",
         "type": "float"
        },
        {
         "name": "performance_category",
         "rawType": "object",
         "type": "unknown"
        }
       ],
       "ref": "67bc6043-49b0-430b-98f0-d027cf7cc8e2",
       "rows": [
        [
         "0",
         "58",
         "23",
         "High School",
         "Finance",
         "10.0",
         "Excellent"
        ],
        [
         "2",
         "34",
         "15",
         "High School",
         "HR",
         "5.0",
         null
        ],
        [
         "3",
         "40",
         "29",
         "PhD",
         "HR",
         "4.0",
         "Average"
        ],
        [
         "4",
         "40",
         "36",
         "PhD",
         "Finance",
         "2.0",
         "Poor"
        ],
        [
         "5",
         "58",
         "13",
         "PhD",
         "Tech",
         "4.0",
         "Average"
        ],
        [
         "6",
         "38",
         "32",
         "PhD",
         "Tech",
         "10.0",
         "Excellent"
        ],
        [
         "7",
         "42",
         "7",
         "PhD",
         "Finance",
         "10.0",
         "Excellent"
        ],
        [
         "8",
         "30",
         "22",
         "Master",
         "HR",
         "3.0",
         "Poor"
        ],
        [
         "9",
         "30",
         "28",
         "Master",
         "HR",
         "10.0",
         "Excellent"
        ],
        [
         "10",
         "43",
         "2",
         "High School",
         "Tech",
         "1.0",
         "Poor"
        ],
        [
         "11",
         "55",
         "6",
         "PhD",
         "HR",
         "8.0",
         "Very Good"
        ],
        [
         "12",
         "59",
         "28",
         "High School",
         "Sales",
         "5.0",
         "Average"
        ],
        [
         "13",
         "43",
         "28",
         "PhD",
         "Tech",
         "4.0",
         "Average"
        ],
        [
         "14",
         "22",
         "20",
         "PhD",
         "HR",
         "8.0",
         "Very Good"
        ],
        [
         "15",
         "41",
         "30",
         "Master",
         "Tech",
         "7.0",
         "Good"
        ],
        [
         "16",
         "21",
         "11",
         "Master",
         "Sales",
         "2.0",
         "Poor"
        ],
        [
         "17",
         "43",
         "28",
         "Bachelor",
         "Tech",
         "1.0",
         "Poor"
        ],
        [
         "18",
         "49",
         "25",
         "Master",
         "Tech",
         "4.0",
         "Average"
        ],
        [
         "19",
         "57",
         "39",
         "Bachelor",
         "Tech",
         "8.0",
         "Very Good"
        ],
        [
         "20",
         "21",
         "33",
         "Bachelor",
         "Tech",
         "2.0",
         "Poor"
        ],
        [
         "21",
         "40",
         "1",
         "Bachelor",
         "Sales",
         "3.0",
         "Poor"
        ],
        [
         "22",
         "52",
         "27",
         "Bachelor",
         "Finance",
         "1.0",
         "Poor"
        ],
        [
         "23",
         "31",
         "13",
         "Bachelor",
         "Tech",
         "1.0",
         "Poor"
        ],
        [
         "24",
         "41",
         "3",
         "High School",
         "Tech",
         "3.0",
         "Poor"
        ],
        [
         "25",
         "44",
         "39",
         "Master",
         "HR",
         "5.0",
         "Average"
        ],
        [
         "26",
         "46",
         "6",
         "Bachelor",
         "Tech",
         "3.0",
         "Poor"
        ],
        [
         "27",
         "47",
         "8",
         "PhD",
         "HR",
         "1.0",
         "Poor"
        ],
        [
         "28",
         "35",
         "27",
         "Master",
         "Finance",
         "1.0",
         "Poor"
        ],
        [
         "29",
         "34",
         "9",
         "Master",
         "Sales",
         "8.0",
         "Very Good"
        ],
        [
         "30",
         "22",
         "37",
         "Bachelor",
         "Sales",
         "10.0",
         "Excellent"
        ],
        [
         "31",
         "56",
         "33",
         "High School",
         "Finance",
         "2.0",
         "Poor"
        ],
        [
         "32",
         "26",
         "24",
         "Bachelor",
         "Sales",
         "3.0",
         "Poor"
        ],
        [
         "33",
         "40",
         "15",
         "High School",
         "Finance",
         "2.0",
         "Poor"
        ],
        [
         "34",
         "28",
         "32",
         "PhD",
         "Finance",
         "3.0",
         "Poor"
        ],
        [
         "35",
         "58",
         "32",
         "Master",
         "Finance",
         "7.0",
         "Good"
        ],
        [
         "36",
         "37",
         "24",
         "PhD",
         "Sales",
         "1.0",
         "Poor"
        ],
        [
         "37",
         "23",
         "12",
         "High School",
         "HR",
         "10.0",
         "Excellent"
        ],
        [
         "38",
         "44",
         "39",
         "High School",
         "Finance",
         "8.0",
         "Very Good"
        ],
        [
         "39",
         "33",
         "2",
         "PhD",
         "Tech",
         "10.0",
         "Excellent"
        ],
        [
         "40",
         "28",
         "3",
         "High School",
         "Sales",
         "10.0",
         "Excellent"
        ],
        [
         "41",
         "45",
         "37",
         "PhD",
         "Finance",
         "10.0",
         "Excellent"
        ],
        [
         "42",
         "21",
         "17",
         "Master",
         "Finance",
         "2.0",
         "Poor"
        ],
        [
         "43",
         "39",
         "2",
         "PhD",
         "Tech",
         "3.0",
         "Poor"
        ],
        [
         "44",
         "47",
         "2",
         "Master",
         "HR",
         "9.0",
         "Very Good"
        ],
        [
         "45",
         "26",
         "28",
         "PhD",
         "HR",
         "7.0",
         "Good"
        ],
        [
         "46",
         "27",
         "23",
         "High School",
         "HR",
         "4.0",
         "Average"
        ],
        [
         "47",
         "54",
         "37",
         "PhD",
         "Finance",
         "10.0",
         "Excellent"
        ],
        [
         "48",
         "33",
         "32",
         "High School",
         "Finance",
         "5.0",
         "Average"
        ],
        [
         "49",
         "36",
         "33",
         "PhD",
         "Finance",
         "2.0",
         "Poor"
        ],
        [
         "50",
         "55",
         "1",
         "PhD",
         "Sales",
         "8.0",
         "Very Good"
        ]
       ],
       "shape": {
        "columns": 6,
        "rows": 790
       }
      },
      "text/html": [
       "<div>\n",
       "<style scoped>\n",
       "    .dataframe tbody tr th:only-of-type {\n",
       "        vertical-align: middle;\n",
       "    }\n",
       "\n",
       "    .dataframe tbody tr th {\n",
       "        vertical-align: top;\n",
       "    }\n",
       "\n",
       "    .dataframe thead th {\n",
       "        text-align: right;\n",
       "    }\n",
       "</style>\n",
       "<table border=\"1\" class=\"dataframe\">\n",
       "  <thead>\n",
       "    <tr style=\"text-align: right;\">\n",
       "      <th></th>\n",
       "      <th>age</th>\n",
       "      <th>years_experience</th>\n",
       "      <th>education_level</th>\n",
       "      <th>department</th>\n",
       "      <th>performance_score</th>\n",
       "      <th>performance_category</th>\n",
       "    </tr>\n",
       "  </thead>\n",
       "  <tbody>\n",
       "    <tr>\n",
       "      <th>0</th>\n",
       "      <td>58</td>\n",
       "      <td>23</td>\n",
       "      <td>High School</td>\n",
       "      <td>Finance</td>\n",
       "      <td>10.0</td>\n",
       "      <td>Excellent</td>\n",
       "    </tr>\n",
       "    <tr>\n",
       "      <th>2</th>\n",
       "      <td>34</td>\n",
       "      <td>15</td>\n",
       "      <td>High School</td>\n",
       "      <td>HR</td>\n",
       "      <td>5.0</td>\n",
       "      <td>NaN</td>\n",
       "    </tr>\n",
       "    <tr>\n",
       "      <th>3</th>\n",
       "      <td>40</td>\n",
       "      <td>29</td>\n",
       "      <td>PhD</td>\n",
       "      <td>HR</td>\n",
       "      <td>4.0</td>\n",
       "      <td>Average</td>\n",
       "    </tr>\n",
       "    <tr>\n",
       "      <th>4</th>\n",
       "      <td>40</td>\n",
       "      <td>36</td>\n",
       "      <td>PhD</td>\n",
       "      <td>Finance</td>\n",
       "      <td>2.0</td>\n",
       "      <td>Poor</td>\n",
       "    </tr>\n",
       "    <tr>\n",
       "      <th>5</th>\n",
       "      <td>58</td>\n",
       "      <td>13</td>\n",
       "      <td>PhD</td>\n",
       "      <td>Tech</td>\n",
       "      <td>4.0</td>\n",
       "      <td>Average</td>\n",
       "    </tr>\n",
       "    <tr>\n",
       "      <th>...</th>\n",
       "      <td>...</td>\n",
       "      <td>...</td>\n",
       "      <td>...</td>\n",
       "      <td>...</td>\n",
       "      <td>...</td>\n",
       "      <td>...</td>\n",
       "    </tr>\n",
       "    <tr>\n",
       "      <th>786</th>\n",
       "      <td>21</td>\n",
       "      <td>19</td>\n",
       "      <td>Bachelor</td>\n",
       "      <td>Sales</td>\n",
       "      <td>9.0</td>\n",
       "      <td>Very Good</td>\n",
       "    </tr>\n",
       "    <tr>\n",
       "      <th>787</th>\n",
       "      <td>25</td>\n",
       "      <td>4</td>\n",
       "      <td>Master</td>\n",
       "      <td>Finance</td>\n",
       "      <td>4.0</td>\n",
       "      <td>Average</td>\n",
       "    </tr>\n",
       "    <tr>\n",
       "      <th>788</th>\n",
       "      <td>47</td>\n",
       "      <td>35</td>\n",
       "      <td>Bachelor</td>\n",
       "      <td>Finance</td>\n",
       "      <td>6.0</td>\n",
       "      <td>Good</td>\n",
       "    </tr>\n",
       "    <tr>\n",
       "      <th>789</th>\n",
       "      <td>47</td>\n",
       "      <td>17</td>\n",
       "      <td>High School</td>\n",
       "      <td>Sales</td>\n",
       "      <td>1.0</td>\n",
       "      <td>Poor</td>\n",
       "    </tr>\n",
       "    <tr>\n",
       "      <th>790</th>\n",
       "      <td>39</td>\n",
       "      <td>28</td>\n",
       "      <td>Bachelor</td>\n",
       "      <td>Sales</td>\n",
       "      <td>9.0</td>\n",
       "      <td>Very Good</td>\n",
       "    </tr>\n",
       "  </tbody>\n",
       "</table>\n",
       "<p>790 rows × 6 columns</p>\n",
       "</div>"
      ],
      "text/plain": [
       "     age  years_experience education_level department  performance_score  \\\n",
       "0     58                23     High School    Finance               10.0   \n",
       "2     34                15     High School         HR                5.0   \n",
       "3     40                29             PhD         HR                4.0   \n",
       "4     40                36             PhD    Finance                2.0   \n",
       "5     58                13             PhD       Tech                4.0   \n",
       "..   ...               ...             ...        ...                ...   \n",
       "786   21                19        Bachelor      Sales                9.0   \n",
       "787   25                 4          Master    Finance                4.0   \n",
       "788   47                35        Bachelor    Finance                6.0   \n",
       "789   47                17     High School      Sales                1.0   \n",
       "790   39                28        Bachelor      Sales                9.0   \n",
       "\n",
       "    performance_category  \n",
       "0              Excellent  \n",
       "2                    NaN  \n",
       "3                Average  \n",
       "4                   Poor  \n",
       "5                Average  \n",
       "..                   ...  \n",
       "786            Very Good  \n",
       "787              Average  \n",
       "788                 Good  \n",
       "789                 Poor  \n",
       "790            Very Good  \n",
       "\n",
       "[790 rows x 6 columns]"
      ]
     },
     "execution_count": 54,
     "metadata": {},
     "output_type": "execute_result"
    }
   ],
   "source": [
    "df.dropna(subset=['performance_score', 'performance_category'], \n",
    "          how='all', inplace=True)"
   ]
  },
  {
   "cell_type": "code",
   "execution_count": 55,
   "id": "83e1ddc3",
   "metadata": {},
   "outputs": [
    {
     "name": "stdout",
     "output_type": "stream",
     "text": [
      "<class 'pandas.core.frame.DataFrame'>\n",
      "Index: 790 entries, 0 to 790\n",
      "Data columns (total 6 columns):\n",
      " #   Column                Non-Null Count  Dtype  \n",
      "---  ------                --------------  -----  \n",
      " 0   age                   790 non-null    int64  \n",
      " 1   years_experience      790 non-null    int64  \n",
      " 2   education_level       790 non-null    object \n",
      " 3   department            790 non-null    object \n",
      " 4   performance_score     790 non-null    float64\n",
      " 5   performance_category  789 non-null    object \n",
      "dtypes: float64(1), int64(2), object(3)\n",
      "memory usage: 43.2+ KB\n"
     ]
    }
   ],
   "source": [
    "df.info()"
   ]
  },
  {
   "cell_type": "code",
   "execution_count": 57,
   "id": "35ec9348",
   "metadata": {},
   "outputs": [],
   "source": [
    "def categorize(score):\n",
    "    if score <= 2:\n",
    "        return 'Poor'\n",
    "    if score <= 4:\n",
    "        return 'Average'\n",
    "    if score <= 6:\n",
    "        return 'Good'\n",
    "    if score <= 8:\n",
    "        return 'Very Good'\n",
    "    else:\n",
    "        return 'Excellent'\n",
    "\n",
    "df['performance_category'] = df['performance_category'].fillna(\n",
    "    df['performance_score'].apply(categorize))"
   ]
  },
  {
   "cell_type": "code",
   "execution_count": 58,
   "id": "28b696e1",
   "metadata": {},
   "outputs": [
    {
     "name": "stdout",
     "output_type": "stream",
     "text": [
      "<class 'pandas.core.frame.DataFrame'>\n",
      "Index: 790 entries, 0 to 790\n",
      "Data columns (total 6 columns):\n",
      " #   Column                Non-Null Count  Dtype  \n",
      "---  ------                --------------  -----  \n",
      " 0   age                   790 non-null    int64  \n",
      " 1   years_experience      790 non-null    int64  \n",
      " 2   education_level       790 non-null    object \n",
      " 3   department            790 non-null    object \n",
      " 4   performance_score     790 non-null    float64\n",
      " 5   performance_category  790 non-null    object \n",
      "dtypes: float64(1), int64(2), object(3)\n",
      "memory usage: 43.2+ KB\n"
     ]
    }
   ],
   "source": [
    "df.info()"
   ]
  },
  {
   "cell_type": "code",
   "execution_count": 59,
   "id": "1b646b72",
   "metadata": {},
   "outputs": [
    {
     "data": {
      "application/vnd.microsoft.datawrangler.viewer.v0+json": {
       "columns": [
        {
         "name": "index",
         "rawType": "int64",
         "type": "integer"
        },
        {
         "name": "age",
         "rawType": "int64",
         "type": "integer"
        },
        {
         "name": "years_experience",
         "rawType": "int64",
         "type": "integer"
        },
        {
         "name": "education_level",
         "rawType": "object",
         "type": "string"
        },
        {
         "name": "department",
         "rawType": "object",
         "type": "string"
        },
        {
         "name": "performance_score",
         "rawType": "float64",
         "type": "float"
        },
        {
         "name": "performance_category",
         "rawType": "object",
         "type": "string"
        }
       ],
       "ref": "44ca9c1c-9f43-4df8-9d87-92e57d8f71e7",
       "rows": [
        [
         "0",
         "58",
         "23",
         "High School",
         "Finance",
         "10.0",
         "Excellent"
        ],
        [
         "2",
         "34",
         "15",
         "High School",
         "HR",
         "5.0",
         "Good"
        ],
        [
         "3",
         "40",
         "29",
         "PhD",
         "HR",
         "4.0",
         "Average"
        ],
        [
         "4",
         "40",
         "36",
         "PhD",
         "Finance",
         "2.0",
         "Poor"
        ],
        [
         "5",
         "58",
         "13",
         "PhD",
         "Tech",
         "4.0",
         "Average"
        ],
        [
         "6",
         "38",
         "32",
         "PhD",
         "Tech",
         "10.0",
         "Excellent"
        ],
        [
         "7",
         "42",
         "7",
         "PhD",
         "Finance",
         "10.0",
         "Excellent"
        ],
        [
         "8",
         "30",
         "22",
         "Master",
         "HR",
         "3.0",
         "Poor"
        ],
        [
         "9",
         "30",
         "28",
         "Master",
         "HR",
         "10.0",
         "Excellent"
        ],
        [
         "10",
         "43",
         "2",
         "High School",
         "Tech",
         "1.0",
         "Poor"
        ],
        [
         "11",
         "55",
         "6",
         "PhD",
         "HR",
         "8.0",
         "Very Good"
        ],
        [
         "12",
         "59",
         "28",
         "High School",
         "Sales",
         "5.0",
         "Average"
        ],
        [
         "13",
         "43",
         "28",
         "PhD",
         "Tech",
         "4.0",
         "Average"
        ],
        [
         "14",
         "22",
         "20",
         "PhD",
         "HR",
         "8.0",
         "Very Good"
        ],
        [
         "15",
         "41",
         "30",
         "Master",
         "Tech",
         "7.0",
         "Good"
        ],
        [
         "16",
         "21",
         "11",
         "Master",
         "Sales",
         "2.0",
         "Poor"
        ],
        [
         "17",
         "43",
         "28",
         "Bachelor",
         "Tech",
         "1.0",
         "Poor"
        ],
        [
         "18",
         "49",
         "25",
         "Master",
         "Tech",
         "4.0",
         "Average"
        ],
        [
         "19",
         "57",
         "39",
         "Bachelor",
         "Tech",
         "8.0",
         "Very Good"
        ],
        [
         "20",
         "21",
         "33",
         "Bachelor",
         "Tech",
         "2.0",
         "Poor"
        ],
        [
         "21",
         "40",
         "1",
         "Bachelor",
         "Sales",
         "3.0",
         "Poor"
        ],
        [
         "22",
         "52",
         "27",
         "Bachelor",
         "Finance",
         "1.0",
         "Poor"
        ],
        [
         "23",
         "31",
         "13",
         "Bachelor",
         "Tech",
         "1.0",
         "Poor"
        ],
        [
         "24",
         "41",
         "3",
         "High School",
         "Tech",
         "3.0",
         "Poor"
        ],
        [
         "25",
         "44",
         "39",
         "Master",
         "HR",
         "5.0",
         "Average"
        ],
        [
         "26",
         "46",
         "6",
         "Bachelor",
         "Tech",
         "3.0",
         "Poor"
        ],
        [
         "27",
         "47",
         "8",
         "PhD",
         "HR",
         "1.0",
         "Poor"
        ],
        [
         "28",
         "35",
         "27",
         "Master",
         "Finance",
         "1.0",
         "Poor"
        ],
        [
         "29",
         "34",
         "9",
         "Master",
         "Sales",
         "8.0",
         "Very Good"
        ],
        [
         "30",
         "22",
         "37",
         "Bachelor",
         "Sales",
         "10.0",
         "Excellent"
        ],
        [
         "31",
         "56",
         "33",
         "High School",
         "Finance",
         "2.0",
         "Poor"
        ],
        [
         "32",
         "26",
         "24",
         "Bachelor",
         "Sales",
         "3.0",
         "Poor"
        ],
        [
         "33",
         "40",
         "15",
         "High School",
         "Finance",
         "2.0",
         "Poor"
        ],
        [
         "34",
         "28",
         "32",
         "PhD",
         "Finance",
         "3.0",
         "Poor"
        ],
        [
         "35",
         "58",
         "32",
         "Master",
         "Finance",
         "7.0",
         "Good"
        ],
        [
         "36",
         "37",
         "24",
         "PhD",
         "Sales",
         "1.0",
         "Poor"
        ],
        [
         "37",
         "23",
         "12",
         "High School",
         "HR",
         "10.0",
         "Excellent"
        ],
        [
         "38",
         "44",
         "39",
         "High School",
         "Finance",
         "8.0",
         "Very Good"
        ],
        [
         "39",
         "33",
         "2",
         "PhD",
         "Tech",
         "10.0",
         "Excellent"
        ],
        [
         "40",
         "28",
         "3",
         "High School",
         "Sales",
         "10.0",
         "Excellent"
        ],
        [
         "41",
         "45",
         "37",
         "PhD",
         "Finance",
         "10.0",
         "Excellent"
        ],
        [
         "42",
         "21",
         "17",
         "Master",
         "Finance",
         "2.0",
         "Poor"
        ],
        [
         "43",
         "39",
         "2",
         "PhD",
         "Tech",
         "3.0",
         "Poor"
        ],
        [
         "44",
         "47",
         "2",
         "Master",
         "HR",
         "9.0",
         "Very Good"
        ],
        [
         "45",
         "26",
         "28",
         "PhD",
         "HR",
         "7.0",
         "Good"
        ],
        [
         "46",
         "27",
         "23",
         "High School",
         "HR",
         "4.0",
         "Average"
        ],
        [
         "47",
         "54",
         "37",
         "PhD",
         "Finance",
         "10.0",
         "Excellent"
        ],
        [
         "48",
         "33",
         "32",
         "High School",
         "Finance",
         "5.0",
         "Average"
        ],
        [
         "49",
         "36",
         "33",
         "PhD",
         "Finance",
         "2.0",
         "Poor"
        ],
        [
         "50",
         "55",
         "1",
         "PhD",
         "Sales",
         "8.0",
         "Very Good"
        ]
       ],
       "shape": {
        "columns": 6,
        "rows": 790
       }
      },
      "text/html": [
       "<div>\n",
       "<style scoped>\n",
       "    .dataframe tbody tr th:only-of-type {\n",
       "        vertical-align: middle;\n",
       "    }\n",
       "\n",
       "    .dataframe tbody tr th {\n",
       "        vertical-align: top;\n",
       "    }\n",
       "\n",
       "    .dataframe thead th {\n",
       "        text-align: right;\n",
       "    }\n",
       "</style>\n",
       "<table border=\"1\" class=\"dataframe\">\n",
       "  <thead>\n",
       "    <tr style=\"text-align: right;\">\n",
       "      <th></th>\n",
       "      <th>age</th>\n",
       "      <th>years_experience</th>\n",
       "      <th>education_level</th>\n",
       "      <th>department</th>\n",
       "      <th>performance_score</th>\n",
       "      <th>performance_category</th>\n",
       "    </tr>\n",
       "  </thead>\n",
       "  <tbody>\n",
       "    <tr>\n",
       "      <th>0</th>\n",
       "      <td>58</td>\n",
       "      <td>23</td>\n",
       "      <td>High School</td>\n",
       "      <td>Finance</td>\n",
       "      <td>10.0</td>\n",
       "      <td>Excellent</td>\n",
       "    </tr>\n",
       "    <tr>\n",
       "      <th>2</th>\n",
       "      <td>34</td>\n",
       "      <td>15</td>\n",
       "      <td>High School</td>\n",
       "      <td>HR</td>\n",
       "      <td>5.0</td>\n",
       "      <td>Good</td>\n",
       "    </tr>\n",
       "    <tr>\n",
       "      <th>3</th>\n",
       "      <td>40</td>\n",
       "      <td>29</td>\n",
       "      <td>PhD</td>\n",
       "      <td>HR</td>\n",
       "      <td>4.0</td>\n",
       "      <td>Average</td>\n",
       "    </tr>\n",
       "    <tr>\n",
       "      <th>4</th>\n",
       "      <td>40</td>\n",
       "      <td>36</td>\n",
       "      <td>PhD</td>\n",
       "      <td>Finance</td>\n",
       "      <td>2.0</td>\n",
       "      <td>Poor</td>\n",
       "    </tr>\n",
       "    <tr>\n",
       "      <th>5</th>\n",
       "      <td>58</td>\n",
       "      <td>13</td>\n",
       "      <td>PhD</td>\n",
       "      <td>Tech</td>\n",
       "      <td>4.0</td>\n",
       "      <td>Average</td>\n",
       "    </tr>\n",
       "    <tr>\n",
       "      <th>...</th>\n",
       "      <td>...</td>\n",
       "      <td>...</td>\n",
       "      <td>...</td>\n",
       "      <td>...</td>\n",
       "      <td>...</td>\n",
       "      <td>...</td>\n",
       "    </tr>\n",
       "    <tr>\n",
       "      <th>786</th>\n",
       "      <td>21</td>\n",
       "      <td>19</td>\n",
       "      <td>Bachelor</td>\n",
       "      <td>Sales</td>\n",
       "      <td>9.0</td>\n",
       "      <td>Very Good</td>\n",
       "    </tr>\n",
       "    <tr>\n",
       "      <th>787</th>\n",
       "      <td>25</td>\n",
       "      <td>4</td>\n",
       "      <td>Master</td>\n",
       "      <td>Finance</td>\n",
       "      <td>4.0</td>\n",
       "      <td>Average</td>\n",
       "    </tr>\n",
       "    <tr>\n",
       "      <th>788</th>\n",
       "      <td>47</td>\n",
       "      <td>35</td>\n",
       "      <td>Bachelor</td>\n",
       "      <td>Finance</td>\n",
       "      <td>6.0</td>\n",
       "      <td>Good</td>\n",
       "    </tr>\n",
       "    <tr>\n",
       "      <th>789</th>\n",
       "      <td>47</td>\n",
       "      <td>17</td>\n",
       "      <td>High School</td>\n",
       "      <td>Sales</td>\n",
       "      <td>1.0</td>\n",
       "      <td>Poor</td>\n",
       "    </tr>\n",
       "    <tr>\n",
       "      <th>790</th>\n",
       "      <td>39</td>\n",
       "      <td>28</td>\n",
       "      <td>Bachelor</td>\n",
       "      <td>Sales</td>\n",
       "      <td>9.0</td>\n",
       "      <td>Very Good</td>\n",
       "    </tr>\n",
       "  </tbody>\n",
       "</table>\n",
       "<p>790 rows × 6 columns</p>\n",
       "</div>"
      ],
      "text/plain": [
       "     age  years_experience education_level department  performance_score  \\\n",
       "0     58                23     High School    Finance               10.0   \n",
       "2     34                15     High School         HR                5.0   \n",
       "3     40                29             PhD         HR                4.0   \n",
       "4     40                36             PhD    Finance                2.0   \n",
       "5     58                13             PhD       Tech                4.0   \n",
       "..   ...               ...             ...        ...                ...   \n",
       "786   21                19        Bachelor      Sales                9.0   \n",
       "787   25                 4          Master    Finance                4.0   \n",
       "788   47                35        Bachelor    Finance                6.0   \n",
       "789   47                17     High School      Sales                1.0   \n",
       "790   39                28        Bachelor      Sales                9.0   \n",
       "\n",
       "    performance_category  \n",
       "0              Excellent  \n",
       "2                   Good  \n",
       "3                Average  \n",
       "4                   Poor  \n",
       "5                Average  \n",
       "..                   ...  \n",
       "786            Very Good  \n",
       "787              Average  \n",
       "788                 Good  \n",
       "789                 Poor  \n",
       "790            Very Good  \n",
       "\n",
       "[790 rows x 6 columns]"
      ]
     },
     "execution_count": 59,
     "metadata": {},
     "output_type": "execute_result"
    }
   ],
   "source": [
    "df"
   ]
  },
  {
   "cell_type": "code",
   "execution_count": 60,
   "id": "8ff616e7",
   "metadata": {},
   "outputs": [],
   "source": [
    "df.to_csv('cleaned_data.csv', index=False)"
   ]
  },
  {
   "cell_type": "code",
   "execution_count": 62,
   "id": "248b47c6",
   "metadata": {},
   "outputs": [],
   "source": [
    "df = pd.read_csv('cleaned_data.csv')"
   ]
  },
  {
   "cell_type": "code",
   "execution_count": 63,
   "id": "10af8a0c",
   "metadata": {},
   "outputs": [
    {
     "data": {
      "application/vnd.microsoft.datawrangler.viewer.v0+json": {
       "columns": [
        {
         "name": "index",
         "rawType": "int64",
         "type": "integer"
        },
        {
         "name": "age",
         "rawType": "int64",
         "type": "integer"
        },
        {
         "name": "years_experience",
         "rawType": "int64",
         "type": "integer"
        },
        {
         "name": "education_level",
         "rawType": "object",
         "type": "string"
        },
        {
         "name": "department",
         "rawType": "object",
         "type": "string"
        },
        {
         "name": "performance_score",
         "rawType": "float64",
         "type": "float"
        },
        {
         "name": "performance_category",
         "rawType": "object",
         "type": "string"
        }
       ],
       "ref": "f9cb3185-1a3a-4caa-9d10-9a04ccc1cc20",
       "rows": [
        [
         "0",
         "58",
         "23",
         "High School",
         "Finance",
         "10.0",
         "Excellent"
        ],
        [
         "1",
         "34",
         "15",
         "High School",
         "HR",
         "5.0",
         "Good"
        ],
        [
         "2",
         "40",
         "29",
         "PhD",
         "HR",
         "4.0",
         "Average"
        ],
        [
         "3",
         "40",
         "36",
         "PhD",
         "Finance",
         "2.0",
         "Poor"
        ],
        [
         "4",
         "58",
         "13",
         "PhD",
         "Tech",
         "4.0",
         "Average"
        ],
        [
         "5",
         "38",
         "32",
         "PhD",
         "Tech",
         "10.0",
         "Excellent"
        ],
        [
         "6",
         "42",
         "7",
         "PhD",
         "Finance",
         "10.0",
         "Excellent"
        ],
        [
         "7",
         "30",
         "22",
         "Master",
         "HR",
         "3.0",
         "Poor"
        ],
        [
         "8",
         "30",
         "28",
         "Master",
         "HR",
         "10.0",
         "Excellent"
        ],
        [
         "9",
         "43",
         "2",
         "High School",
         "Tech",
         "1.0",
         "Poor"
        ],
        [
         "10",
         "55",
         "6",
         "PhD",
         "HR",
         "8.0",
         "Very Good"
        ],
        [
         "11",
         "59",
         "28",
         "High School",
         "Sales",
         "5.0",
         "Average"
        ],
        [
         "12",
         "43",
         "28",
         "PhD",
         "Tech",
         "4.0",
         "Average"
        ],
        [
         "13",
         "22",
         "20",
         "PhD",
         "HR",
         "8.0",
         "Very Good"
        ],
        [
         "14",
         "41",
         "30",
         "Master",
         "Tech",
         "7.0",
         "Good"
        ],
        [
         "15",
         "21",
         "11",
         "Master",
         "Sales",
         "2.0",
         "Poor"
        ],
        [
         "16",
         "43",
         "28",
         "Bachelor",
         "Tech",
         "1.0",
         "Poor"
        ],
        [
         "17",
         "49",
         "25",
         "Master",
         "Tech",
         "4.0",
         "Average"
        ],
        [
         "18",
         "57",
         "39",
         "Bachelor",
         "Tech",
         "8.0",
         "Very Good"
        ],
        [
         "19",
         "21",
         "33",
         "Bachelor",
         "Tech",
         "2.0",
         "Poor"
        ],
        [
         "20",
         "40",
         "1",
         "Bachelor",
         "Sales",
         "3.0",
         "Poor"
        ],
        [
         "21",
         "52",
         "27",
         "Bachelor",
         "Finance",
         "1.0",
         "Poor"
        ],
        [
         "22",
         "31",
         "13",
         "Bachelor",
         "Tech",
         "1.0",
         "Poor"
        ],
        [
         "23",
         "41",
         "3",
         "High School",
         "Tech",
         "3.0",
         "Poor"
        ],
        [
         "24",
         "44",
         "39",
         "Master",
         "HR",
         "5.0",
         "Average"
        ],
        [
         "25",
         "46",
         "6",
         "Bachelor",
         "Tech",
         "3.0",
         "Poor"
        ],
        [
         "26",
         "47",
         "8",
         "PhD",
         "HR",
         "1.0",
         "Poor"
        ],
        [
         "27",
         "35",
         "27",
         "Master",
         "Finance",
         "1.0",
         "Poor"
        ],
        [
         "28",
         "34",
         "9",
         "Master",
         "Sales",
         "8.0",
         "Very Good"
        ],
        [
         "29",
         "22",
         "37",
         "Bachelor",
         "Sales",
         "10.0",
         "Excellent"
        ],
        [
         "30",
         "56",
         "33",
         "High School",
         "Finance",
         "2.0",
         "Poor"
        ],
        [
         "31",
         "26",
         "24",
         "Bachelor",
         "Sales",
         "3.0",
         "Poor"
        ],
        [
         "32",
         "40",
         "15",
         "High School",
         "Finance",
         "2.0",
         "Poor"
        ],
        [
         "33",
         "28",
         "32",
         "PhD",
         "Finance",
         "3.0",
         "Poor"
        ],
        [
         "34",
         "58",
         "32",
         "Master",
         "Finance",
         "7.0",
         "Good"
        ],
        [
         "35",
         "37",
         "24",
         "PhD",
         "Sales",
         "1.0",
         "Poor"
        ],
        [
         "36",
         "23",
         "12",
         "High School",
         "HR",
         "10.0",
         "Excellent"
        ],
        [
         "37",
         "44",
         "39",
         "High School",
         "Finance",
         "8.0",
         "Very Good"
        ],
        [
         "38",
         "33",
         "2",
         "PhD",
         "Tech",
         "10.0",
         "Excellent"
        ],
        [
         "39",
         "28",
         "3",
         "High School",
         "Sales",
         "10.0",
         "Excellent"
        ],
        [
         "40",
         "45",
         "37",
         "PhD",
         "Finance",
         "10.0",
         "Excellent"
        ],
        [
         "41",
         "21",
         "17",
         "Master",
         "Finance",
         "2.0",
         "Poor"
        ],
        [
         "42",
         "39",
         "2",
         "PhD",
         "Tech",
         "3.0",
         "Poor"
        ],
        [
         "43",
         "47",
         "2",
         "Master",
         "HR",
         "9.0",
         "Very Good"
        ],
        [
         "44",
         "26",
         "28",
         "PhD",
         "HR",
         "7.0",
         "Good"
        ],
        [
         "45",
         "27",
         "23",
         "High School",
         "HR",
         "4.0",
         "Average"
        ],
        [
         "46",
         "54",
         "37",
         "PhD",
         "Finance",
         "10.0",
         "Excellent"
        ],
        [
         "47",
         "33",
         "32",
         "High School",
         "Finance",
         "5.0",
         "Average"
        ],
        [
         "48",
         "36",
         "33",
         "PhD",
         "Finance",
         "2.0",
         "Poor"
        ],
        [
         "49",
         "55",
         "1",
         "PhD",
         "Sales",
         "8.0",
         "Very Good"
        ]
       ],
       "shape": {
        "columns": 6,
        "rows": 790
       }
      },
      "text/html": [
       "<div>\n",
       "<style scoped>\n",
       "    .dataframe tbody tr th:only-of-type {\n",
       "        vertical-align: middle;\n",
       "    }\n",
       "\n",
       "    .dataframe tbody tr th {\n",
       "        vertical-align: top;\n",
       "    }\n",
       "\n",
       "    .dataframe thead th {\n",
       "        text-align: right;\n",
       "    }\n",
       "</style>\n",
       "<table border=\"1\" class=\"dataframe\">\n",
       "  <thead>\n",
       "    <tr style=\"text-align: right;\">\n",
       "      <th></th>\n",
       "      <th>age</th>\n",
       "      <th>years_experience</th>\n",
       "      <th>education_level</th>\n",
       "      <th>department</th>\n",
       "      <th>performance_score</th>\n",
       "      <th>performance_category</th>\n",
       "    </tr>\n",
       "  </thead>\n",
       "  <tbody>\n",
       "    <tr>\n",
       "      <th>0</th>\n",
       "      <td>58</td>\n",
       "      <td>23</td>\n",
       "      <td>High School</td>\n",
       "      <td>Finance</td>\n",
       "      <td>10.0</td>\n",
       "      <td>Excellent</td>\n",
       "    </tr>\n",
       "    <tr>\n",
       "      <th>1</th>\n",
       "      <td>34</td>\n",
       "      <td>15</td>\n",
       "      <td>High School</td>\n",
       "      <td>HR</td>\n",
       "      <td>5.0</td>\n",
       "      <td>Good</td>\n",
       "    </tr>\n",
       "    <tr>\n",
       "      <th>2</th>\n",
       "      <td>40</td>\n",
       "      <td>29</td>\n",
       "      <td>PhD</td>\n",
       "      <td>HR</td>\n",
       "      <td>4.0</td>\n",
       "      <td>Average</td>\n",
       "    </tr>\n",
       "    <tr>\n",
       "      <th>3</th>\n",
       "      <td>40</td>\n",
       "      <td>36</td>\n",
       "      <td>PhD</td>\n",
       "      <td>Finance</td>\n",
       "      <td>2.0</td>\n",
       "      <td>Poor</td>\n",
       "    </tr>\n",
       "    <tr>\n",
       "      <th>4</th>\n",
       "      <td>58</td>\n",
       "      <td>13</td>\n",
       "      <td>PhD</td>\n",
       "      <td>Tech</td>\n",
       "      <td>4.0</td>\n",
       "      <td>Average</td>\n",
       "    </tr>\n",
       "    <tr>\n",
       "      <th>...</th>\n",
       "      <td>...</td>\n",
       "      <td>...</td>\n",
       "      <td>...</td>\n",
       "      <td>...</td>\n",
       "      <td>...</td>\n",
       "      <td>...</td>\n",
       "    </tr>\n",
       "    <tr>\n",
       "      <th>785</th>\n",
       "      <td>21</td>\n",
       "      <td>19</td>\n",
       "      <td>Bachelor</td>\n",
       "      <td>Sales</td>\n",
       "      <td>9.0</td>\n",
       "      <td>Very Good</td>\n",
       "    </tr>\n",
       "    <tr>\n",
       "      <th>786</th>\n",
       "      <td>25</td>\n",
       "      <td>4</td>\n",
       "      <td>Master</td>\n",
       "      <td>Finance</td>\n",
       "      <td>4.0</td>\n",
       "      <td>Average</td>\n",
       "    </tr>\n",
       "    <tr>\n",
       "      <th>787</th>\n",
       "      <td>47</td>\n",
       "      <td>35</td>\n",
       "      <td>Bachelor</td>\n",
       "      <td>Finance</td>\n",
       "      <td>6.0</td>\n",
       "      <td>Good</td>\n",
       "    </tr>\n",
       "    <tr>\n",
       "      <th>788</th>\n",
       "      <td>47</td>\n",
       "      <td>17</td>\n",
       "      <td>High School</td>\n",
       "      <td>Sales</td>\n",
       "      <td>1.0</td>\n",
       "      <td>Poor</td>\n",
       "    </tr>\n",
       "    <tr>\n",
       "      <th>789</th>\n",
       "      <td>39</td>\n",
       "      <td>28</td>\n",
       "      <td>Bachelor</td>\n",
       "      <td>Sales</td>\n",
       "      <td>9.0</td>\n",
       "      <td>Very Good</td>\n",
       "    </tr>\n",
       "  </tbody>\n",
       "</table>\n",
       "<p>790 rows × 6 columns</p>\n",
       "</div>"
      ],
      "text/plain": [
       "     age  years_experience education_level department  performance_score  \\\n",
       "0     58                23     High School    Finance               10.0   \n",
       "1     34                15     High School         HR                5.0   \n",
       "2     40                29             PhD         HR                4.0   \n",
       "3     40                36             PhD    Finance                2.0   \n",
       "4     58                13             PhD       Tech                4.0   \n",
       "..   ...               ...             ...        ...                ...   \n",
       "785   21                19        Bachelor      Sales                9.0   \n",
       "786   25                 4          Master    Finance                4.0   \n",
       "787   47                35        Bachelor    Finance                6.0   \n",
       "788   47                17     High School      Sales                1.0   \n",
       "789   39                28        Bachelor      Sales                9.0   \n",
       "\n",
       "    performance_category  \n",
       "0              Excellent  \n",
       "1                   Good  \n",
       "2                Average  \n",
       "3                   Poor  \n",
       "4                Average  \n",
       "..                   ...  \n",
       "785            Very Good  \n",
       "786              Average  \n",
       "787                 Good  \n",
       "788                 Poor  \n",
       "789            Very Good  \n",
       "\n",
       "[790 rows x 6 columns]"
      ]
     },
     "execution_count": 63,
     "metadata": {},
     "output_type": "execute_result"
    }
   ],
   "source": [
    "df"
   ]
  },
  {
   "cell_type": "code",
   "execution_count": 65,
   "id": "29232c41",
   "metadata": {},
   "outputs": [
    {
     "data": {
      "text/plain": [
       "array([ 0.43478261,  0.33333333,  0.13793103,  0.05555556,  0.30769231,\n",
       "        0.3125    ,  1.42857143,  0.13636364,  0.35714286,  0.5       ,\n",
       "        1.33333333,  0.17857143,  0.14285714,  0.4       ,  0.23333333,\n",
       "        0.18181818,  0.03571429,  0.16      ,  0.20512821,  0.06060606,\n",
       "        3.        ,  0.03703704,  0.07692308,  1.        ,  0.12820513,\n",
       "        0.125     ,  0.88888889,  0.27027027,  0.13333333,  0.09375   ,\n",
       "        0.21875   ,  0.04166667,  0.83333333,  5.        ,  3.33333333,\n",
       "        0.11764706,  1.5       ,  4.5       ,  0.25      ,  0.17391304,\n",
       "        0.15625   ,  8.        ,  0.21052632,  0.19230769,  0.28125   ,\n",
       "        0.66666667,  1.25      ,  0.81818182,  0.47058824,  0.07894737,\n",
       "        0.6       ,  0.04545455,  0.63636364,  0.21212121,  0.55555556,\n",
       "        0.16666667,  0.4375    ,  0.24137931,  0.15      ,  0.05263158,\n",
       "        0.03846154,  0.47368421,  0.3       ,  0.12121212,  0.23076923,\n",
       "        9.        ,  0.12      ,  0.16129032,  0.08571429,  1.28571429,\n",
       "        2.        ,  0.58333333,  1.8       ,  0.18918919,  1.11111111,\n",
       "        0.28571429,  0.36842105,  0.625     ,  1.66666667,  0.29166667,\n",
       "        0.375     ,  0.90909091,  0.02777778,  0.15789474,  0.35      ,\n",
       "        0.22857143,  0.25714286,  0.08      ,  0.34482759,  0.11111111,\n",
       "        0.27777778,  2.5       ,  0.17142857,  0.1875    ,  0.22222222,\n",
       "        0.03030303,  0.10526316,  0.85714286,  0.15384615,  0.10714286,\n",
       "        0.29032258,  0.2       ,  0.02857143,  1.14285714,  0.38461538,\n",
       "        0.41666667,  0.8       ,  2.66666667,  0.08333333,  0.20833333,\n",
       "        0.18421053,  0.32      ,  0.11428571,  0.44444444,  0.09090909,\n",
       "        0.75      ,  0.15151515,  0.0952381 ,  0.71428571,  0.05882353,\n",
       "        0.45454545,  0.03333333,  0.26315789,  0.23684211,  0.17647059,\n",
       "        0.38095238,  0.3030303 ,  1.6       ,  0.21428571,  0.05714286,\n",
       "        0.10344828,  0.22580645,  0.26086957,  0.28      ,  0.30434783,\n",
       "        0.37037037,  0.23529412,  0.27272727,  0.25641026,  0.34615385,\n",
       "        0.05      ,  0.5625    ,  0.07142857,  0.39130435,  0.22727273,\n",
       "        1.4       ,  1.75      ,  0.26666667,  0.61538462,  0.02702703,\n",
       "        0.29411765,  6.        ,  0.0625    ,  0.17241379,  0.26923077,\n",
       "        0.47619048,  0.05128205,  0.2173913 ,  0.9       ,  0.19354839,\n",
       "        0.7       ,  0.06451613,  0.36363636,  3.5       ,  0.14814815,\n",
       "        0.04      ,  0.57142857,  4.        ,  0.06666667,  0.08823529,\n",
       "        0.04347826,  0.05405405,  0.03125   ,  0.52631579,  7.        ,\n",
       "        0.21621622,  1.2       ,  0.04761905,  0.17948718,  0.13888889,\n",
       "        0.1       ,  0.10810811,  0.08695652,  0.32258065,  0.24242424,\n",
       "        0.27586207,  0.06896552,  0.31034483,  0.16216216,  0.13513514,\n",
       "        0.76923077,  0.09677419,  0.31578947,  0.24      ,  0.23809524,\n",
       "        0.1025641 ,  0.02631579,  0.69230769,  0.08108108,  0.46153846,\n",
       "        0.32142857, 10.        ,  0.42105263,  0.38888889,  0.875     ,\n",
       "        0.07407407,  0.41176471,  0.53846154,  0.2962963 ,  0.77777778,\n",
       "        0.46666667,  0.02564103,  0.13043478,  0.24324324,  0.14705882,\n",
       "        1.16666667,  0.45      ,  0.12903226,  0.20689655,  0.64285714,\n",
       "        0.35294118,  0.31818182,  0.40909091,  0.18518519,  0.19047619])"
      ]
     },
     "execution_count": 65,
     "metadata": {},
     "output_type": "execute_result"
    }
   ],
   "source": [
    "df['annual_performance'] = (\n",
    "    df['performance_score'] / df['years_experience'].replace(0, 1)\n",
    ")\n",
    "\n",
    "df['annual_performance'].unique()"
   ]
  },
  {
   "cell_type": "code",
   "execution_count": 66,
   "id": "505b83c7",
   "metadata": {},
   "outputs": [
    {
     "data": {
      "text/plain": [
       "array(['High', 'Medium', 'Low'], dtype=object)"
      ]
     },
     "execution_count": 66,
     "metadata": {},
     "output_type": "execute_result"
    }
   ],
   "source": [
    "df['performance_level'] = df['performance_category'].map({\n",
    "    'Poor': 'Low', 'Average': 'Low',\n",
    "    'Good': 'Medium', 'Very Good': 'High', 'Excellent': 'High'\n",
    "})\n",
    "df['performance_level'].unique()"
   ]
  },
  {
   "cell_type": "code",
   "execution_count": 67,
   "id": "15cffbb9",
   "metadata": {},
   "outputs": [
    {
     "data": {
      "text/plain": [
       "['Senior', 'Mid-Career', 'Young']\n",
       "Categories (3, object): ['Young' < 'Mid-Career' < 'Senior']"
      ]
     },
     "execution_count": 67,
     "metadata": {},
     "output_type": "execute_result"
    }
   ],
   "source": [
    "df['age_group'] = pd.cut(df['age'], bins=[0, 29, 45, 100],\n",
    "                         labels=['Young', 'Mid-Career', 'Senior'])\n",
    "df['age_group'].unique()"
   ]
  },
  {
   "cell_type": "code",
   "execution_count": 68,
   "id": "6a1ad1a8",
   "metadata": {},
   "outputs": [
    {
     "data": {
      "text/plain": [
       "['Senior', 'Mid', 'Junior', 'Entry']\n",
       "Categories (4, object): ['Entry' < 'Junior' < 'Mid' < 'Senior']"
      ]
     },
     "execution_count": 68,
     "metadata": {},
     "output_type": "execute_result"
    }
   ],
   "source": [
    "df['experience_band'] = pd.cut(df['years_experience'],\n",
    "                               bins=[0, 5, 10, 20, 40],\n",
    "                               labels=['Entry', 'Junior', 'Mid', 'Senior'])\n",
    "df['experience_band'].unique()"
   ]
  },
  {
   "cell_type": "code",
   "execution_count": 69,
   "id": "9350cd33",
   "metadata": {},
   "outputs": [],
   "source": [
    "df.to_csv('final_data.csv', index= False)"
   ]
  }
 ],
 "metadata": {
  "kernelspec": {
   "display_name": ".venv",
   "language": "python",
   "name": "python3"
  },
  "language_info": {
   "codemirror_mode": {
    "name": "ipython",
    "version": 3
   },
   "file_extension": ".py",
   "mimetype": "text/x-python",
   "name": "python",
   "nbconvert_exporter": "python",
   "pygments_lexer": "ipython3",
   "version": "3.12.6"
  }
 },
 "nbformat": 4,
 "nbformat_minor": 5
}
